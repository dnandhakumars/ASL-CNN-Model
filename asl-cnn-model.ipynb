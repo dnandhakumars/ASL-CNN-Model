{
 "cells": [
  {
   "cell_type": "markdown",
   "metadata": {
    "id": "QSxvSynkMgz4"
   },
   "source": [
    "American Sign Language (ASL) is a complete, natural language that has the same linguistic properties as spoken languages, with grammar that differs from English. ASL is expressed by movements of the hands and face. It is the primary language of many North Americans who are deaf and hard of hearing, and is used by many hearing people as well."
   ]
  },
  {
   "cell_type": "code",
   "execution_count": 3,
   "metadata": {
    "executionInfo": {
     "elapsed": 3572,
     "status": "ok",
     "timestamp": 1610800929697,
     "user": {
      "displayName": "Nandhakumar Duraisamy",
      "photoUrl": "https://lh3.googleusercontent.com/a-/AOh14GgLIM4VRFC54xPRt9AGjVlupvp705iWu7M6Fxq3Lg=s64",
      "userId": "08154574129048180733"
     },
     "user_tz": -330
    },
    "id": "yzCeUul-9baV"
   },
   "outputs": [],
   "source": [
    "project_name='sign-language'"
   ]
  },
  {
   "cell_type": "code",
   "execution_count": 4,
   "metadata": {
    "executionInfo": {
     "elapsed": 6110,
     "status": "ok",
     "timestamp": 1610800932238,
     "user": {
      "displayName": "Nandhakumar Duraisamy",
      "photoUrl": "https://lh3.googleusercontent.com/a-/AOh14GgLIM4VRFC54xPRt9AGjVlupvp705iWu7M6Fxq3Lg=s64",
      "userId": "08154574129048180733"
     },
     "user_tz": -330
    },
    "id": "vx-l9AR19baV"
   },
   "outputs": [],
   "source": [
    "!pip install opendatasets --upgrade --quiet #to download kaggle datasets"
   ]
  },
  {
   "cell_type": "markdown",
   "metadata": {
    "id": "rmpKpamhzXlb"
   },
   "source": [
    "###Downloading the dataset.\n",
    "\n",
    "you will be asked to provide your Kaggle username and credentails, which you can obtained on your account page on Kaggle.\n",
    "enter the username and key manually when prompted."
   ]
  },
  {
   "cell_type": "code",
   "execution_count": 5,
   "metadata": {
    "colab": {
     "base_uri": "https://localhost:8080/"
    },
    "executionInfo": {
     "elapsed": 30694,
     "status": "ok",
     "timestamp": 1610800956825,
     "user": {
      "displayName": "Nandhakumar Duraisamy",
      "photoUrl": "https://lh3.googleusercontent.com/a-/AOh14GgLIM4VRFC54xPRt9AGjVlupvp705iWu7M6Fxq3Lg=s64",
      "userId": "08154574129048180733"
     },
     "user_tz": -330
    },
    "id": "VngmUDcD-Vra",
    "outputId": "b4ef6c3c-a257-4c6e-b484-ff20cd4e681f"
   },
   "outputs": [
    {
     "name": "stdout",
     "output_type": "stream",
     "text": [
      "Please provide your Kaggle credentials to download this dataset. Learn more: http://bit.ly/kaggle-creds\n",
      "Your Kaggle username: dnandhakumars\n",
      "Your Kaggle Key: ··········\n"
     ]
    },
    {
     "name": "stderr",
     "output_type": "stream",
     "text": [
      " 10%|▉         | 6.00M/62.6M [00:00<00:01, 59.3MB/s]"
     ]
    },
    {
     "name": "stdout",
     "output_type": "stream",
     "text": [
      "Downloading sign-language-mnist.zip to ./sign-language-mnist\n"
     ]
    },
    {
     "name": "stderr",
     "output_type": "stream",
     "text": [
      "100%|██████████| 62.6M/62.6M [00:01<00:00, 54.8MB/s]\n"
     ]
    },
    {
     "name": "stdout",
     "output_type": "stream",
     "text": [
      "\n"
     ]
    }
   ],
   "source": [
    "import opendatasets as od\n",
    "dataset_url = 'https://www.kaggle.com/datamunge/sign-language-mnist'\n",
    "od.download(dataset_url)"
   ]
  },
  {
   "cell_type": "code",
   "execution_count": 6,
   "metadata": {
    "executionInfo": {
     "elapsed": 33890,
     "status": "ok",
     "timestamp": 1610800960023,
     "user": {
      "displayName": "Nandhakumar Duraisamy",
      "photoUrl": "https://lh3.googleusercontent.com/a-/AOh14GgLIM4VRFC54xPRt9AGjVlupvp705iWu7M6Fxq3Lg=s64",
      "userId": "08154574129048180733"
     },
     "user_tz": -330
    },
    "id": "F16zUVXlDmuS"
   },
   "outputs": [],
   "source": [
    "import torch\n",
    "import pandas as pd\n",
    "import numpy as np\n",
    "import torch.nn as nn\n",
    "import torch.nn.functional as F\n",
    "import matplotlib.pyplot as plt\n",
    "from torch.utils.data import random_split, Dataset\n",
    "from torch.utils.data.dataloader import DataLoader\n",
    "from torchvision.utils import make_grid\n",
    "from torchvision.transforms import transforms\n",
    "%matplotlib inline"
   ]
  },
  {
   "cell_type": "code",
   "execution_count": 7,
   "metadata": {
    "colab": {
     "base_uri": "https://localhost:8080/",
     "height": 253
    },
    "executionInfo": {
     "elapsed": 37312,
     "status": "ok",
     "timestamp": 1610800963448,
     "user": {
      "displayName": "Nandhakumar Duraisamy",
      "photoUrl": "https://lh3.googleusercontent.com/a-/AOh14GgLIM4VRFC54xPRt9AGjVlupvp705iWu7M6Fxq3Lg=s64",
      "userId": "08154574129048180733"
     },
     "user_tz": -330
    },
    "id": "X-UXHCyOA1uA",
    "outputId": "3dfd0f54-4d1f-4c6d-87b8-46b602b77f9f"
   },
   "outputs": [
    {
     "data": {
      "text/html": [
       "<div>\n",
       "<style scoped>\n",
       "    .dataframe tbody tr th:only-of-type {\n",
       "        vertical-align: middle;\n",
       "    }\n",
       "\n",
       "    .dataframe tbody tr th {\n",
       "        vertical-align: top;\n",
       "    }\n",
       "\n",
       "    .dataframe thead th {\n",
       "        text-align: right;\n",
       "    }\n",
       "</style>\n",
       "<table border=\"1\" class=\"dataframe\">\n",
       "  <thead>\n",
       "    <tr style=\"text-align: right;\">\n",
       "      <th></th>\n",
       "      <th>label</th>\n",
       "      <th>pixel1</th>\n",
       "      <th>pixel2</th>\n",
       "      <th>pixel3</th>\n",
       "      <th>pixel4</th>\n",
       "      <th>pixel5</th>\n",
       "      <th>pixel6</th>\n",
       "      <th>pixel7</th>\n",
       "      <th>pixel8</th>\n",
       "      <th>pixel9</th>\n",
       "      <th>pixel10</th>\n",
       "      <th>pixel11</th>\n",
       "      <th>pixel12</th>\n",
       "      <th>pixel13</th>\n",
       "      <th>pixel14</th>\n",
       "      <th>pixel15</th>\n",
       "      <th>pixel16</th>\n",
       "      <th>pixel17</th>\n",
       "      <th>pixel18</th>\n",
       "      <th>pixel19</th>\n",
       "      <th>pixel20</th>\n",
       "      <th>pixel21</th>\n",
       "      <th>pixel22</th>\n",
       "      <th>pixel23</th>\n",
       "      <th>pixel24</th>\n",
       "      <th>pixel25</th>\n",
       "      <th>pixel26</th>\n",
       "      <th>pixel27</th>\n",
       "      <th>pixel28</th>\n",
       "      <th>pixel29</th>\n",
       "      <th>pixel30</th>\n",
       "      <th>pixel31</th>\n",
       "      <th>pixel32</th>\n",
       "      <th>pixel33</th>\n",
       "      <th>pixel34</th>\n",
       "      <th>pixel35</th>\n",
       "      <th>pixel36</th>\n",
       "      <th>pixel37</th>\n",
       "      <th>pixel38</th>\n",
       "      <th>pixel39</th>\n",
       "      <th>...</th>\n",
       "      <th>pixel745</th>\n",
       "      <th>pixel746</th>\n",
       "      <th>pixel747</th>\n",
       "      <th>pixel748</th>\n",
       "      <th>pixel749</th>\n",
       "      <th>pixel750</th>\n",
       "      <th>pixel751</th>\n",
       "      <th>pixel752</th>\n",
       "      <th>pixel753</th>\n",
       "      <th>pixel754</th>\n",
       "      <th>pixel755</th>\n",
       "      <th>pixel756</th>\n",
       "      <th>pixel757</th>\n",
       "      <th>pixel758</th>\n",
       "      <th>pixel759</th>\n",
       "      <th>pixel760</th>\n",
       "      <th>pixel761</th>\n",
       "      <th>pixel762</th>\n",
       "      <th>pixel763</th>\n",
       "      <th>pixel764</th>\n",
       "      <th>pixel765</th>\n",
       "      <th>pixel766</th>\n",
       "      <th>pixel767</th>\n",
       "      <th>pixel768</th>\n",
       "      <th>pixel769</th>\n",
       "      <th>pixel770</th>\n",
       "      <th>pixel771</th>\n",
       "      <th>pixel772</th>\n",
       "      <th>pixel773</th>\n",
       "      <th>pixel774</th>\n",
       "      <th>pixel775</th>\n",
       "      <th>pixel776</th>\n",
       "      <th>pixel777</th>\n",
       "      <th>pixel778</th>\n",
       "      <th>pixel779</th>\n",
       "      <th>pixel780</th>\n",
       "      <th>pixel781</th>\n",
       "      <th>pixel782</th>\n",
       "      <th>pixel783</th>\n",
       "      <th>pixel784</th>\n",
       "    </tr>\n",
       "  </thead>\n",
       "  <tbody>\n",
       "    <tr>\n",
       "      <th>0</th>\n",
       "      <td>3</td>\n",
       "      <td>107</td>\n",
       "      <td>118</td>\n",
       "      <td>127</td>\n",
       "      <td>134</td>\n",
       "      <td>139</td>\n",
       "      <td>143</td>\n",
       "      <td>146</td>\n",
       "      <td>150</td>\n",
       "      <td>153</td>\n",
       "      <td>156</td>\n",
       "      <td>158</td>\n",
       "      <td>160</td>\n",
       "      <td>163</td>\n",
       "      <td>165</td>\n",
       "      <td>159</td>\n",
       "      <td>166</td>\n",
       "      <td>168</td>\n",
       "      <td>170</td>\n",
       "      <td>170</td>\n",
       "      <td>171</td>\n",
       "      <td>171</td>\n",
       "      <td>171</td>\n",
       "      <td>172</td>\n",
       "      <td>171</td>\n",
       "      <td>171</td>\n",
       "      <td>170</td>\n",
       "      <td>170</td>\n",
       "      <td>169</td>\n",
       "      <td>111</td>\n",
       "      <td>121</td>\n",
       "      <td>129</td>\n",
       "      <td>135</td>\n",
       "      <td>141</td>\n",
       "      <td>144</td>\n",
       "      <td>148</td>\n",
       "      <td>151</td>\n",
       "      <td>154</td>\n",
       "      <td>157</td>\n",
       "      <td>160</td>\n",
       "      <td>...</td>\n",
       "      <td>205</td>\n",
       "      <td>206</td>\n",
       "      <td>206</td>\n",
       "      <td>207</td>\n",
       "      <td>207</td>\n",
       "      <td>206</td>\n",
       "      <td>206</td>\n",
       "      <td>204</td>\n",
       "      <td>205</td>\n",
       "      <td>204</td>\n",
       "      <td>203</td>\n",
       "      <td>202</td>\n",
       "      <td>142</td>\n",
       "      <td>151</td>\n",
       "      <td>160</td>\n",
       "      <td>172</td>\n",
       "      <td>196</td>\n",
       "      <td>188</td>\n",
       "      <td>188</td>\n",
       "      <td>190</td>\n",
       "      <td>135</td>\n",
       "      <td>96</td>\n",
       "      <td>86</td>\n",
       "      <td>77</td>\n",
       "      <td>77</td>\n",
       "      <td>79</td>\n",
       "      <td>176</td>\n",
       "      <td>205</td>\n",
       "      <td>207</td>\n",
       "      <td>207</td>\n",
       "      <td>207</td>\n",
       "      <td>207</td>\n",
       "      <td>207</td>\n",
       "      <td>207</td>\n",
       "      <td>206</td>\n",
       "      <td>206</td>\n",
       "      <td>206</td>\n",
       "      <td>204</td>\n",
       "      <td>203</td>\n",
       "      <td>202</td>\n",
       "    </tr>\n",
       "    <tr>\n",
       "      <th>1</th>\n",
       "      <td>6</td>\n",
       "      <td>155</td>\n",
       "      <td>157</td>\n",
       "      <td>156</td>\n",
       "      <td>156</td>\n",
       "      <td>156</td>\n",
       "      <td>157</td>\n",
       "      <td>156</td>\n",
       "      <td>158</td>\n",
       "      <td>158</td>\n",
       "      <td>157</td>\n",
       "      <td>158</td>\n",
       "      <td>156</td>\n",
       "      <td>154</td>\n",
       "      <td>154</td>\n",
       "      <td>153</td>\n",
       "      <td>152</td>\n",
       "      <td>151</td>\n",
       "      <td>149</td>\n",
       "      <td>149</td>\n",
       "      <td>148</td>\n",
       "      <td>147</td>\n",
       "      <td>146</td>\n",
       "      <td>144</td>\n",
       "      <td>142</td>\n",
       "      <td>143</td>\n",
       "      <td>138</td>\n",
       "      <td>92</td>\n",
       "      <td>108</td>\n",
       "      <td>158</td>\n",
       "      <td>159</td>\n",
       "      <td>159</td>\n",
       "      <td>159</td>\n",
       "      <td>160</td>\n",
       "      <td>160</td>\n",
       "      <td>160</td>\n",
       "      <td>160</td>\n",
       "      <td>160</td>\n",
       "      <td>160</td>\n",
       "      <td>160</td>\n",
       "      <td>...</td>\n",
       "      <td>100</td>\n",
       "      <td>78</td>\n",
       "      <td>120</td>\n",
       "      <td>157</td>\n",
       "      <td>168</td>\n",
       "      <td>107</td>\n",
       "      <td>99</td>\n",
       "      <td>121</td>\n",
       "      <td>133</td>\n",
       "      <td>97</td>\n",
       "      <td>95</td>\n",
       "      <td>120</td>\n",
       "      <td>135</td>\n",
       "      <td>116</td>\n",
       "      <td>95</td>\n",
       "      <td>79</td>\n",
       "      <td>69</td>\n",
       "      <td>86</td>\n",
       "      <td>139</td>\n",
       "      <td>173</td>\n",
       "      <td>200</td>\n",
       "      <td>185</td>\n",
       "      <td>175</td>\n",
       "      <td>198</td>\n",
       "      <td>124</td>\n",
       "      <td>118</td>\n",
       "      <td>94</td>\n",
       "      <td>140</td>\n",
       "      <td>133</td>\n",
       "      <td>84</td>\n",
       "      <td>69</td>\n",
       "      <td>149</td>\n",
       "      <td>128</td>\n",
       "      <td>87</td>\n",
       "      <td>94</td>\n",
       "      <td>163</td>\n",
       "      <td>175</td>\n",
       "      <td>103</td>\n",
       "      <td>135</td>\n",
       "      <td>149</td>\n",
       "    </tr>\n",
       "    <tr>\n",
       "      <th>2</th>\n",
       "      <td>2</td>\n",
       "      <td>187</td>\n",
       "      <td>188</td>\n",
       "      <td>188</td>\n",
       "      <td>187</td>\n",
       "      <td>187</td>\n",
       "      <td>186</td>\n",
       "      <td>187</td>\n",
       "      <td>188</td>\n",
       "      <td>187</td>\n",
       "      <td>186</td>\n",
       "      <td>185</td>\n",
       "      <td>185</td>\n",
       "      <td>185</td>\n",
       "      <td>184</td>\n",
       "      <td>184</td>\n",
       "      <td>184</td>\n",
       "      <td>181</td>\n",
       "      <td>181</td>\n",
       "      <td>179</td>\n",
       "      <td>179</td>\n",
       "      <td>179</td>\n",
       "      <td>178</td>\n",
       "      <td>178</td>\n",
       "      <td>109</td>\n",
       "      <td>52</td>\n",
       "      <td>66</td>\n",
       "      <td>77</td>\n",
       "      <td>83</td>\n",
       "      <td>188</td>\n",
       "      <td>189</td>\n",
       "      <td>189</td>\n",
       "      <td>188</td>\n",
       "      <td>188</td>\n",
       "      <td>189</td>\n",
       "      <td>188</td>\n",
       "      <td>188</td>\n",
       "      <td>188</td>\n",
       "      <td>188</td>\n",
       "      <td>187</td>\n",
       "      <td>...</td>\n",
       "      <td>203</td>\n",
       "      <td>204</td>\n",
       "      <td>203</td>\n",
       "      <td>201</td>\n",
       "      <td>200</td>\n",
       "      <td>200</td>\n",
       "      <td>199</td>\n",
       "      <td>198</td>\n",
       "      <td>196</td>\n",
       "      <td>195</td>\n",
       "      <td>194</td>\n",
       "      <td>193</td>\n",
       "      <td>198</td>\n",
       "      <td>166</td>\n",
       "      <td>132</td>\n",
       "      <td>114</td>\n",
       "      <td>89</td>\n",
       "      <td>74</td>\n",
       "      <td>79</td>\n",
       "      <td>77</td>\n",
       "      <td>74</td>\n",
       "      <td>78</td>\n",
       "      <td>132</td>\n",
       "      <td>188</td>\n",
       "      <td>210</td>\n",
       "      <td>209</td>\n",
       "      <td>206</td>\n",
       "      <td>205</td>\n",
       "      <td>204</td>\n",
       "      <td>203</td>\n",
       "      <td>202</td>\n",
       "      <td>201</td>\n",
       "      <td>200</td>\n",
       "      <td>199</td>\n",
       "      <td>198</td>\n",
       "      <td>199</td>\n",
       "      <td>198</td>\n",
       "      <td>195</td>\n",
       "      <td>194</td>\n",
       "      <td>195</td>\n",
       "    </tr>\n",
       "    <tr>\n",
       "      <th>3</th>\n",
       "      <td>2</td>\n",
       "      <td>211</td>\n",
       "      <td>211</td>\n",
       "      <td>212</td>\n",
       "      <td>212</td>\n",
       "      <td>211</td>\n",
       "      <td>210</td>\n",
       "      <td>211</td>\n",
       "      <td>210</td>\n",
       "      <td>210</td>\n",
       "      <td>211</td>\n",
       "      <td>209</td>\n",
       "      <td>207</td>\n",
       "      <td>208</td>\n",
       "      <td>207</td>\n",
       "      <td>206</td>\n",
       "      <td>203</td>\n",
       "      <td>202</td>\n",
       "      <td>201</td>\n",
       "      <td>200</td>\n",
       "      <td>198</td>\n",
       "      <td>197</td>\n",
       "      <td>195</td>\n",
       "      <td>192</td>\n",
       "      <td>197</td>\n",
       "      <td>171</td>\n",
       "      <td>51</td>\n",
       "      <td>52</td>\n",
       "      <td>54</td>\n",
       "      <td>212</td>\n",
       "      <td>213</td>\n",
       "      <td>215</td>\n",
       "      <td>215</td>\n",
       "      <td>212</td>\n",
       "      <td>212</td>\n",
       "      <td>213</td>\n",
       "      <td>212</td>\n",
       "      <td>212</td>\n",
       "      <td>211</td>\n",
       "      <td>211</td>\n",
       "      <td>...</td>\n",
       "      <td>247</td>\n",
       "      <td>242</td>\n",
       "      <td>233</td>\n",
       "      <td>231</td>\n",
       "      <td>230</td>\n",
       "      <td>229</td>\n",
       "      <td>227</td>\n",
       "      <td>225</td>\n",
       "      <td>223</td>\n",
       "      <td>221</td>\n",
       "      <td>220</td>\n",
       "      <td>216</td>\n",
       "      <td>58</td>\n",
       "      <td>51</td>\n",
       "      <td>49</td>\n",
       "      <td>50</td>\n",
       "      <td>57</td>\n",
       "      <td>60</td>\n",
       "      <td>17</td>\n",
       "      <td>15</td>\n",
       "      <td>18</td>\n",
       "      <td>17</td>\n",
       "      <td>19</td>\n",
       "      <td>1</td>\n",
       "      <td>159</td>\n",
       "      <td>255</td>\n",
       "      <td>237</td>\n",
       "      <td>239</td>\n",
       "      <td>237</td>\n",
       "      <td>236</td>\n",
       "      <td>235</td>\n",
       "      <td>234</td>\n",
       "      <td>233</td>\n",
       "      <td>231</td>\n",
       "      <td>230</td>\n",
       "      <td>226</td>\n",
       "      <td>225</td>\n",
       "      <td>222</td>\n",
       "      <td>229</td>\n",
       "      <td>163</td>\n",
       "    </tr>\n",
       "    <tr>\n",
       "      <th>4</th>\n",
       "      <td>13</td>\n",
       "      <td>164</td>\n",
       "      <td>167</td>\n",
       "      <td>170</td>\n",
       "      <td>172</td>\n",
       "      <td>176</td>\n",
       "      <td>179</td>\n",
       "      <td>180</td>\n",
       "      <td>184</td>\n",
       "      <td>185</td>\n",
       "      <td>186</td>\n",
       "      <td>188</td>\n",
       "      <td>189</td>\n",
       "      <td>189</td>\n",
       "      <td>190</td>\n",
       "      <td>191</td>\n",
       "      <td>189</td>\n",
       "      <td>190</td>\n",
       "      <td>190</td>\n",
       "      <td>187</td>\n",
       "      <td>190</td>\n",
       "      <td>192</td>\n",
       "      <td>193</td>\n",
       "      <td>191</td>\n",
       "      <td>191</td>\n",
       "      <td>192</td>\n",
       "      <td>192</td>\n",
       "      <td>194</td>\n",
       "      <td>194</td>\n",
       "      <td>166</td>\n",
       "      <td>169</td>\n",
       "      <td>172</td>\n",
       "      <td>174</td>\n",
       "      <td>177</td>\n",
       "      <td>180</td>\n",
       "      <td>182</td>\n",
       "      <td>185</td>\n",
       "      <td>186</td>\n",
       "      <td>187</td>\n",
       "      <td>190</td>\n",
       "      <td>...</td>\n",
       "      <td>90</td>\n",
       "      <td>77</td>\n",
       "      <td>88</td>\n",
       "      <td>117</td>\n",
       "      <td>123</td>\n",
       "      <td>127</td>\n",
       "      <td>129</td>\n",
       "      <td>134</td>\n",
       "      <td>145</td>\n",
       "      <td>152</td>\n",
       "      <td>156</td>\n",
       "      <td>179</td>\n",
       "      <td>105</td>\n",
       "      <td>106</td>\n",
       "      <td>105</td>\n",
       "      <td>104</td>\n",
       "      <td>104</td>\n",
       "      <td>104</td>\n",
       "      <td>175</td>\n",
       "      <td>199</td>\n",
       "      <td>178</td>\n",
       "      <td>152</td>\n",
       "      <td>136</td>\n",
       "      <td>130</td>\n",
       "      <td>136</td>\n",
       "      <td>150</td>\n",
       "      <td>118</td>\n",
       "      <td>92</td>\n",
       "      <td>85</td>\n",
       "      <td>76</td>\n",
       "      <td>92</td>\n",
       "      <td>105</td>\n",
       "      <td>105</td>\n",
       "      <td>108</td>\n",
       "      <td>133</td>\n",
       "      <td>163</td>\n",
       "      <td>157</td>\n",
       "      <td>163</td>\n",
       "      <td>164</td>\n",
       "      <td>179</td>\n",
       "    </tr>\n",
       "  </tbody>\n",
       "</table>\n",
       "<p>5 rows × 785 columns</p>\n",
       "</div>"
      ],
      "text/plain": [
       "   label  pixel1  pixel2  pixel3  ...  pixel781  pixel782  pixel783  pixel784\n",
       "0      3     107     118     127  ...       206       204       203       202\n",
       "1      6     155     157     156  ...       175       103       135       149\n",
       "2      2     187     188     188  ...       198       195       194       195\n",
       "3      2     211     211     212  ...       225       222       229       163\n",
       "4     13     164     167     170  ...       157       163       164       179\n",
       "\n",
       "[5 rows x 785 columns]"
      ]
     },
     "execution_count": 7,
     "metadata": {
      "tags": []
     },
     "output_type": "execute_result"
    }
   ],
   "source": [
    "train_df = pd.read_csv('/content/sign-language-mnist/sign_mnist_train.csv')\n",
    "test_df = pd.read_csv('/content/sign-language-mnist/sign_mnist_test.csv')\n",
    "train_df.head()"
   ]
  },
  {
   "cell_type": "markdown",
   "metadata": {
    "id": "p2wrOaN4zzF8"
   },
   "source": [
    "###Separating image and label dataframe."
   ]
  },
  {
   "cell_type": "code",
   "execution_count": 8,
   "metadata": {
    "colab": {
     "base_uri": "https://localhost:8080/",
     "height": 439
    },
    "executionInfo": {
     "elapsed": 37311,
     "status": "ok",
     "timestamp": 1610800963449,
     "user": {
      "displayName": "Nandhakumar Duraisamy",
      "photoUrl": "https://lh3.googleusercontent.com/a-/AOh14GgLIM4VRFC54xPRt9AGjVlupvp705iWu7M6Fxq3Lg=s64",
      "userId": "08154574129048180733"
     },
     "user_tz": -330
    },
    "id": "DmL0g5uDqCn3",
    "outputId": "2ddc9b64-4e85-4aba-e6b0-88e5fcde4fce"
   },
   "outputs": [
    {
     "data": {
      "text/html": [
       "<div>\n",
       "<style scoped>\n",
       "    .dataframe tbody tr th:only-of-type {\n",
       "        vertical-align: middle;\n",
       "    }\n",
       "\n",
       "    .dataframe tbody tr th {\n",
       "        vertical-align: top;\n",
       "    }\n",
       "\n",
       "    .dataframe thead th {\n",
       "        text-align: right;\n",
       "    }\n",
       "</style>\n",
       "<table border=\"1\" class=\"dataframe\">\n",
       "  <thead>\n",
       "    <tr style=\"text-align: right;\">\n",
       "      <th></th>\n",
       "      <th>pixel1</th>\n",
       "      <th>pixel2</th>\n",
       "      <th>pixel3</th>\n",
       "      <th>pixel4</th>\n",
       "      <th>pixel5</th>\n",
       "      <th>pixel6</th>\n",
       "      <th>pixel7</th>\n",
       "      <th>pixel8</th>\n",
       "      <th>pixel9</th>\n",
       "      <th>pixel10</th>\n",
       "      <th>pixel11</th>\n",
       "      <th>pixel12</th>\n",
       "      <th>pixel13</th>\n",
       "      <th>pixel14</th>\n",
       "      <th>pixel15</th>\n",
       "      <th>pixel16</th>\n",
       "      <th>pixel17</th>\n",
       "      <th>pixel18</th>\n",
       "      <th>pixel19</th>\n",
       "      <th>pixel20</th>\n",
       "      <th>pixel21</th>\n",
       "      <th>pixel22</th>\n",
       "      <th>pixel23</th>\n",
       "      <th>pixel24</th>\n",
       "      <th>pixel25</th>\n",
       "      <th>pixel26</th>\n",
       "      <th>pixel27</th>\n",
       "      <th>pixel28</th>\n",
       "      <th>pixel29</th>\n",
       "      <th>pixel30</th>\n",
       "      <th>pixel31</th>\n",
       "      <th>pixel32</th>\n",
       "      <th>pixel33</th>\n",
       "      <th>pixel34</th>\n",
       "      <th>pixel35</th>\n",
       "      <th>pixel36</th>\n",
       "      <th>pixel37</th>\n",
       "      <th>pixel38</th>\n",
       "      <th>pixel39</th>\n",
       "      <th>pixel40</th>\n",
       "      <th>...</th>\n",
       "      <th>pixel745</th>\n",
       "      <th>pixel746</th>\n",
       "      <th>pixel747</th>\n",
       "      <th>pixel748</th>\n",
       "      <th>pixel749</th>\n",
       "      <th>pixel750</th>\n",
       "      <th>pixel751</th>\n",
       "      <th>pixel752</th>\n",
       "      <th>pixel753</th>\n",
       "      <th>pixel754</th>\n",
       "      <th>pixel755</th>\n",
       "      <th>pixel756</th>\n",
       "      <th>pixel757</th>\n",
       "      <th>pixel758</th>\n",
       "      <th>pixel759</th>\n",
       "      <th>pixel760</th>\n",
       "      <th>pixel761</th>\n",
       "      <th>pixel762</th>\n",
       "      <th>pixel763</th>\n",
       "      <th>pixel764</th>\n",
       "      <th>pixel765</th>\n",
       "      <th>pixel766</th>\n",
       "      <th>pixel767</th>\n",
       "      <th>pixel768</th>\n",
       "      <th>pixel769</th>\n",
       "      <th>pixel770</th>\n",
       "      <th>pixel771</th>\n",
       "      <th>pixel772</th>\n",
       "      <th>pixel773</th>\n",
       "      <th>pixel774</th>\n",
       "      <th>pixel775</th>\n",
       "      <th>pixel776</th>\n",
       "      <th>pixel777</th>\n",
       "      <th>pixel778</th>\n",
       "      <th>pixel779</th>\n",
       "      <th>pixel780</th>\n",
       "      <th>pixel781</th>\n",
       "      <th>pixel782</th>\n",
       "      <th>pixel783</th>\n",
       "      <th>pixel784</th>\n",
       "    </tr>\n",
       "  </thead>\n",
       "  <tbody>\n",
       "    <tr>\n",
       "      <th>0</th>\n",
       "      <td>107</td>\n",
       "      <td>118</td>\n",
       "      <td>127</td>\n",
       "      <td>134</td>\n",
       "      <td>139</td>\n",
       "      <td>143</td>\n",
       "      <td>146</td>\n",
       "      <td>150</td>\n",
       "      <td>153</td>\n",
       "      <td>156</td>\n",
       "      <td>158</td>\n",
       "      <td>160</td>\n",
       "      <td>163</td>\n",
       "      <td>165</td>\n",
       "      <td>159</td>\n",
       "      <td>166</td>\n",
       "      <td>168</td>\n",
       "      <td>170</td>\n",
       "      <td>170</td>\n",
       "      <td>171</td>\n",
       "      <td>171</td>\n",
       "      <td>171</td>\n",
       "      <td>172</td>\n",
       "      <td>171</td>\n",
       "      <td>171</td>\n",
       "      <td>170</td>\n",
       "      <td>170</td>\n",
       "      <td>169</td>\n",
       "      <td>111</td>\n",
       "      <td>121</td>\n",
       "      <td>129</td>\n",
       "      <td>135</td>\n",
       "      <td>141</td>\n",
       "      <td>144</td>\n",
       "      <td>148</td>\n",
       "      <td>151</td>\n",
       "      <td>154</td>\n",
       "      <td>157</td>\n",
       "      <td>160</td>\n",
       "      <td>163</td>\n",
       "      <td>...</td>\n",
       "      <td>205</td>\n",
       "      <td>206</td>\n",
       "      <td>206</td>\n",
       "      <td>207</td>\n",
       "      <td>207</td>\n",
       "      <td>206</td>\n",
       "      <td>206</td>\n",
       "      <td>204</td>\n",
       "      <td>205</td>\n",
       "      <td>204</td>\n",
       "      <td>203</td>\n",
       "      <td>202</td>\n",
       "      <td>142</td>\n",
       "      <td>151</td>\n",
       "      <td>160</td>\n",
       "      <td>172</td>\n",
       "      <td>196</td>\n",
       "      <td>188</td>\n",
       "      <td>188</td>\n",
       "      <td>190</td>\n",
       "      <td>135</td>\n",
       "      <td>96</td>\n",
       "      <td>86</td>\n",
       "      <td>77</td>\n",
       "      <td>77</td>\n",
       "      <td>79</td>\n",
       "      <td>176</td>\n",
       "      <td>205</td>\n",
       "      <td>207</td>\n",
       "      <td>207</td>\n",
       "      <td>207</td>\n",
       "      <td>207</td>\n",
       "      <td>207</td>\n",
       "      <td>207</td>\n",
       "      <td>206</td>\n",
       "      <td>206</td>\n",
       "      <td>206</td>\n",
       "      <td>204</td>\n",
       "      <td>203</td>\n",
       "      <td>202</td>\n",
       "    </tr>\n",
       "    <tr>\n",
       "      <th>1</th>\n",
       "      <td>155</td>\n",
       "      <td>157</td>\n",
       "      <td>156</td>\n",
       "      <td>156</td>\n",
       "      <td>156</td>\n",
       "      <td>157</td>\n",
       "      <td>156</td>\n",
       "      <td>158</td>\n",
       "      <td>158</td>\n",
       "      <td>157</td>\n",
       "      <td>158</td>\n",
       "      <td>156</td>\n",
       "      <td>154</td>\n",
       "      <td>154</td>\n",
       "      <td>153</td>\n",
       "      <td>152</td>\n",
       "      <td>151</td>\n",
       "      <td>149</td>\n",
       "      <td>149</td>\n",
       "      <td>148</td>\n",
       "      <td>147</td>\n",
       "      <td>146</td>\n",
       "      <td>144</td>\n",
       "      <td>142</td>\n",
       "      <td>143</td>\n",
       "      <td>138</td>\n",
       "      <td>92</td>\n",
       "      <td>108</td>\n",
       "      <td>158</td>\n",
       "      <td>159</td>\n",
       "      <td>159</td>\n",
       "      <td>159</td>\n",
       "      <td>160</td>\n",
       "      <td>160</td>\n",
       "      <td>160</td>\n",
       "      <td>160</td>\n",
       "      <td>160</td>\n",
       "      <td>160</td>\n",
       "      <td>160</td>\n",
       "      <td>159</td>\n",
       "      <td>...</td>\n",
       "      <td>100</td>\n",
       "      <td>78</td>\n",
       "      <td>120</td>\n",
       "      <td>157</td>\n",
       "      <td>168</td>\n",
       "      <td>107</td>\n",
       "      <td>99</td>\n",
       "      <td>121</td>\n",
       "      <td>133</td>\n",
       "      <td>97</td>\n",
       "      <td>95</td>\n",
       "      <td>120</td>\n",
       "      <td>135</td>\n",
       "      <td>116</td>\n",
       "      <td>95</td>\n",
       "      <td>79</td>\n",
       "      <td>69</td>\n",
       "      <td>86</td>\n",
       "      <td>139</td>\n",
       "      <td>173</td>\n",
       "      <td>200</td>\n",
       "      <td>185</td>\n",
       "      <td>175</td>\n",
       "      <td>198</td>\n",
       "      <td>124</td>\n",
       "      <td>118</td>\n",
       "      <td>94</td>\n",
       "      <td>140</td>\n",
       "      <td>133</td>\n",
       "      <td>84</td>\n",
       "      <td>69</td>\n",
       "      <td>149</td>\n",
       "      <td>128</td>\n",
       "      <td>87</td>\n",
       "      <td>94</td>\n",
       "      <td>163</td>\n",
       "      <td>175</td>\n",
       "      <td>103</td>\n",
       "      <td>135</td>\n",
       "      <td>149</td>\n",
       "    </tr>\n",
       "    <tr>\n",
       "      <th>2</th>\n",
       "      <td>187</td>\n",
       "      <td>188</td>\n",
       "      <td>188</td>\n",
       "      <td>187</td>\n",
       "      <td>187</td>\n",
       "      <td>186</td>\n",
       "      <td>187</td>\n",
       "      <td>188</td>\n",
       "      <td>187</td>\n",
       "      <td>186</td>\n",
       "      <td>185</td>\n",
       "      <td>185</td>\n",
       "      <td>185</td>\n",
       "      <td>184</td>\n",
       "      <td>184</td>\n",
       "      <td>184</td>\n",
       "      <td>181</td>\n",
       "      <td>181</td>\n",
       "      <td>179</td>\n",
       "      <td>179</td>\n",
       "      <td>179</td>\n",
       "      <td>178</td>\n",
       "      <td>178</td>\n",
       "      <td>109</td>\n",
       "      <td>52</td>\n",
       "      <td>66</td>\n",
       "      <td>77</td>\n",
       "      <td>83</td>\n",
       "      <td>188</td>\n",
       "      <td>189</td>\n",
       "      <td>189</td>\n",
       "      <td>188</td>\n",
       "      <td>188</td>\n",
       "      <td>189</td>\n",
       "      <td>188</td>\n",
       "      <td>188</td>\n",
       "      <td>188</td>\n",
       "      <td>188</td>\n",
       "      <td>187</td>\n",
       "      <td>185</td>\n",
       "      <td>...</td>\n",
       "      <td>203</td>\n",
       "      <td>204</td>\n",
       "      <td>203</td>\n",
       "      <td>201</td>\n",
       "      <td>200</td>\n",
       "      <td>200</td>\n",
       "      <td>199</td>\n",
       "      <td>198</td>\n",
       "      <td>196</td>\n",
       "      <td>195</td>\n",
       "      <td>194</td>\n",
       "      <td>193</td>\n",
       "      <td>198</td>\n",
       "      <td>166</td>\n",
       "      <td>132</td>\n",
       "      <td>114</td>\n",
       "      <td>89</td>\n",
       "      <td>74</td>\n",
       "      <td>79</td>\n",
       "      <td>77</td>\n",
       "      <td>74</td>\n",
       "      <td>78</td>\n",
       "      <td>132</td>\n",
       "      <td>188</td>\n",
       "      <td>210</td>\n",
       "      <td>209</td>\n",
       "      <td>206</td>\n",
       "      <td>205</td>\n",
       "      <td>204</td>\n",
       "      <td>203</td>\n",
       "      <td>202</td>\n",
       "      <td>201</td>\n",
       "      <td>200</td>\n",
       "      <td>199</td>\n",
       "      <td>198</td>\n",
       "      <td>199</td>\n",
       "      <td>198</td>\n",
       "      <td>195</td>\n",
       "      <td>194</td>\n",
       "      <td>195</td>\n",
       "    </tr>\n",
       "    <tr>\n",
       "      <th>3</th>\n",
       "      <td>211</td>\n",
       "      <td>211</td>\n",
       "      <td>212</td>\n",
       "      <td>212</td>\n",
       "      <td>211</td>\n",
       "      <td>210</td>\n",
       "      <td>211</td>\n",
       "      <td>210</td>\n",
       "      <td>210</td>\n",
       "      <td>211</td>\n",
       "      <td>209</td>\n",
       "      <td>207</td>\n",
       "      <td>208</td>\n",
       "      <td>207</td>\n",
       "      <td>206</td>\n",
       "      <td>203</td>\n",
       "      <td>202</td>\n",
       "      <td>201</td>\n",
       "      <td>200</td>\n",
       "      <td>198</td>\n",
       "      <td>197</td>\n",
       "      <td>195</td>\n",
       "      <td>192</td>\n",
       "      <td>197</td>\n",
       "      <td>171</td>\n",
       "      <td>51</td>\n",
       "      <td>52</td>\n",
       "      <td>54</td>\n",
       "      <td>212</td>\n",
       "      <td>213</td>\n",
       "      <td>215</td>\n",
       "      <td>215</td>\n",
       "      <td>212</td>\n",
       "      <td>212</td>\n",
       "      <td>213</td>\n",
       "      <td>212</td>\n",
       "      <td>212</td>\n",
       "      <td>211</td>\n",
       "      <td>211</td>\n",
       "      <td>209</td>\n",
       "      <td>...</td>\n",
       "      <td>247</td>\n",
       "      <td>242</td>\n",
       "      <td>233</td>\n",
       "      <td>231</td>\n",
       "      <td>230</td>\n",
       "      <td>229</td>\n",
       "      <td>227</td>\n",
       "      <td>225</td>\n",
       "      <td>223</td>\n",
       "      <td>221</td>\n",
       "      <td>220</td>\n",
       "      <td>216</td>\n",
       "      <td>58</td>\n",
       "      <td>51</td>\n",
       "      <td>49</td>\n",
       "      <td>50</td>\n",
       "      <td>57</td>\n",
       "      <td>60</td>\n",
       "      <td>17</td>\n",
       "      <td>15</td>\n",
       "      <td>18</td>\n",
       "      <td>17</td>\n",
       "      <td>19</td>\n",
       "      <td>1</td>\n",
       "      <td>159</td>\n",
       "      <td>255</td>\n",
       "      <td>237</td>\n",
       "      <td>239</td>\n",
       "      <td>237</td>\n",
       "      <td>236</td>\n",
       "      <td>235</td>\n",
       "      <td>234</td>\n",
       "      <td>233</td>\n",
       "      <td>231</td>\n",
       "      <td>230</td>\n",
       "      <td>226</td>\n",
       "      <td>225</td>\n",
       "      <td>222</td>\n",
       "      <td>229</td>\n",
       "      <td>163</td>\n",
       "    </tr>\n",
       "    <tr>\n",
       "      <th>4</th>\n",
       "      <td>164</td>\n",
       "      <td>167</td>\n",
       "      <td>170</td>\n",
       "      <td>172</td>\n",
       "      <td>176</td>\n",
       "      <td>179</td>\n",
       "      <td>180</td>\n",
       "      <td>184</td>\n",
       "      <td>185</td>\n",
       "      <td>186</td>\n",
       "      <td>188</td>\n",
       "      <td>189</td>\n",
       "      <td>189</td>\n",
       "      <td>190</td>\n",
       "      <td>191</td>\n",
       "      <td>189</td>\n",
       "      <td>190</td>\n",
       "      <td>190</td>\n",
       "      <td>187</td>\n",
       "      <td>190</td>\n",
       "      <td>192</td>\n",
       "      <td>193</td>\n",
       "      <td>191</td>\n",
       "      <td>191</td>\n",
       "      <td>192</td>\n",
       "      <td>192</td>\n",
       "      <td>194</td>\n",
       "      <td>194</td>\n",
       "      <td>166</td>\n",
       "      <td>169</td>\n",
       "      <td>172</td>\n",
       "      <td>174</td>\n",
       "      <td>177</td>\n",
       "      <td>180</td>\n",
       "      <td>182</td>\n",
       "      <td>185</td>\n",
       "      <td>186</td>\n",
       "      <td>187</td>\n",
       "      <td>190</td>\n",
       "      <td>191</td>\n",
       "      <td>...</td>\n",
       "      <td>90</td>\n",
       "      <td>77</td>\n",
       "      <td>88</td>\n",
       "      <td>117</td>\n",
       "      <td>123</td>\n",
       "      <td>127</td>\n",
       "      <td>129</td>\n",
       "      <td>134</td>\n",
       "      <td>145</td>\n",
       "      <td>152</td>\n",
       "      <td>156</td>\n",
       "      <td>179</td>\n",
       "      <td>105</td>\n",
       "      <td>106</td>\n",
       "      <td>105</td>\n",
       "      <td>104</td>\n",
       "      <td>104</td>\n",
       "      <td>104</td>\n",
       "      <td>175</td>\n",
       "      <td>199</td>\n",
       "      <td>178</td>\n",
       "      <td>152</td>\n",
       "      <td>136</td>\n",
       "      <td>130</td>\n",
       "      <td>136</td>\n",
       "      <td>150</td>\n",
       "      <td>118</td>\n",
       "      <td>92</td>\n",
       "      <td>85</td>\n",
       "      <td>76</td>\n",
       "      <td>92</td>\n",
       "      <td>105</td>\n",
       "      <td>105</td>\n",
       "      <td>108</td>\n",
       "      <td>133</td>\n",
       "      <td>163</td>\n",
       "      <td>157</td>\n",
       "      <td>163</td>\n",
       "      <td>164</td>\n",
       "      <td>179</td>\n",
       "    </tr>\n",
       "    <tr>\n",
       "      <th>...</th>\n",
       "      <td>...</td>\n",
       "      <td>...</td>\n",
       "      <td>...</td>\n",
       "      <td>...</td>\n",
       "      <td>...</td>\n",
       "      <td>...</td>\n",
       "      <td>...</td>\n",
       "      <td>...</td>\n",
       "      <td>...</td>\n",
       "      <td>...</td>\n",
       "      <td>...</td>\n",
       "      <td>...</td>\n",
       "      <td>...</td>\n",
       "      <td>...</td>\n",
       "      <td>...</td>\n",
       "      <td>...</td>\n",
       "      <td>...</td>\n",
       "      <td>...</td>\n",
       "      <td>...</td>\n",
       "      <td>...</td>\n",
       "      <td>...</td>\n",
       "      <td>...</td>\n",
       "      <td>...</td>\n",
       "      <td>...</td>\n",
       "      <td>...</td>\n",
       "      <td>...</td>\n",
       "      <td>...</td>\n",
       "      <td>...</td>\n",
       "      <td>...</td>\n",
       "      <td>...</td>\n",
       "      <td>...</td>\n",
       "      <td>...</td>\n",
       "      <td>...</td>\n",
       "      <td>...</td>\n",
       "      <td>...</td>\n",
       "      <td>...</td>\n",
       "      <td>...</td>\n",
       "      <td>...</td>\n",
       "      <td>...</td>\n",
       "      <td>...</td>\n",
       "      <td>...</td>\n",
       "      <td>...</td>\n",
       "      <td>...</td>\n",
       "      <td>...</td>\n",
       "      <td>...</td>\n",
       "      <td>...</td>\n",
       "      <td>...</td>\n",
       "      <td>...</td>\n",
       "      <td>...</td>\n",
       "      <td>...</td>\n",
       "      <td>...</td>\n",
       "      <td>...</td>\n",
       "      <td>...</td>\n",
       "      <td>...</td>\n",
       "      <td>...</td>\n",
       "      <td>...</td>\n",
       "      <td>...</td>\n",
       "      <td>...</td>\n",
       "      <td>...</td>\n",
       "      <td>...</td>\n",
       "      <td>...</td>\n",
       "      <td>...</td>\n",
       "      <td>...</td>\n",
       "      <td>...</td>\n",
       "      <td>...</td>\n",
       "      <td>...</td>\n",
       "      <td>...</td>\n",
       "      <td>...</td>\n",
       "      <td>...</td>\n",
       "      <td>...</td>\n",
       "      <td>...</td>\n",
       "      <td>...</td>\n",
       "      <td>...</td>\n",
       "      <td>...</td>\n",
       "      <td>...</td>\n",
       "      <td>...</td>\n",
       "      <td>...</td>\n",
       "      <td>...</td>\n",
       "      <td>...</td>\n",
       "      <td>...</td>\n",
       "      <td>...</td>\n",
       "    </tr>\n",
       "    <tr>\n",
       "      <th>27450</th>\n",
       "      <td>189</td>\n",
       "      <td>189</td>\n",
       "      <td>190</td>\n",
       "      <td>190</td>\n",
       "      <td>192</td>\n",
       "      <td>193</td>\n",
       "      <td>193</td>\n",
       "      <td>193</td>\n",
       "      <td>193</td>\n",
       "      <td>194</td>\n",
       "      <td>193</td>\n",
       "      <td>193</td>\n",
       "      <td>194</td>\n",
       "      <td>194</td>\n",
       "      <td>195</td>\n",
       "      <td>195</td>\n",
       "      <td>196</td>\n",
       "      <td>194</td>\n",
       "      <td>195</td>\n",
       "      <td>196</td>\n",
       "      <td>196</td>\n",
       "      <td>197</td>\n",
       "      <td>196</td>\n",
       "      <td>197</td>\n",
       "      <td>197</td>\n",
       "      <td>196</td>\n",
       "      <td>195</td>\n",
       "      <td>195</td>\n",
       "      <td>189</td>\n",
       "      <td>190</td>\n",
       "      <td>192</td>\n",
       "      <td>192</td>\n",
       "      <td>193</td>\n",
       "      <td>194</td>\n",
       "      <td>195</td>\n",
       "      <td>196</td>\n",
       "      <td>196</td>\n",
       "      <td>196</td>\n",
       "      <td>193</td>\n",
       "      <td>194</td>\n",
       "      <td>...</td>\n",
       "      <td>115</td>\n",
       "      <td>92</td>\n",
       "      <td>132</td>\n",
       "      <td>173</td>\n",
       "      <td>118</td>\n",
       "      <td>84</td>\n",
       "      <td>53</td>\n",
       "      <td>135</td>\n",
       "      <td>253</td>\n",
       "      <td>213</td>\n",
       "      <td>219</td>\n",
       "      <td>208</td>\n",
       "      <td>82</td>\n",
       "      <td>82</td>\n",
       "      <td>84</td>\n",
       "      <td>85</td>\n",
       "      <td>85</td>\n",
       "      <td>87</td>\n",
       "      <td>84</td>\n",
       "      <td>87</td>\n",
       "      <td>78</td>\n",
       "      <td>113</td>\n",
       "      <td>216</td>\n",
       "      <td>189</td>\n",
       "      <td>172</td>\n",
       "      <td>175</td>\n",
       "      <td>155</td>\n",
       "      <td>131</td>\n",
       "      <td>116</td>\n",
       "      <td>93</td>\n",
       "      <td>132</td>\n",
       "      <td>165</td>\n",
       "      <td>99</td>\n",
       "      <td>77</td>\n",
       "      <td>52</td>\n",
       "      <td>200</td>\n",
       "      <td>234</td>\n",
       "      <td>200</td>\n",
       "      <td>222</td>\n",
       "      <td>225</td>\n",
       "    </tr>\n",
       "    <tr>\n",
       "      <th>27451</th>\n",
       "      <td>151</td>\n",
       "      <td>154</td>\n",
       "      <td>157</td>\n",
       "      <td>158</td>\n",
       "      <td>160</td>\n",
       "      <td>161</td>\n",
       "      <td>163</td>\n",
       "      <td>164</td>\n",
       "      <td>166</td>\n",
       "      <td>167</td>\n",
       "      <td>169</td>\n",
       "      <td>169</td>\n",
       "      <td>169</td>\n",
       "      <td>169</td>\n",
       "      <td>169</td>\n",
       "      <td>169</td>\n",
       "      <td>169</td>\n",
       "      <td>169</td>\n",
       "      <td>169</td>\n",
       "      <td>167</td>\n",
       "      <td>167</td>\n",
       "      <td>167</td>\n",
       "      <td>166</td>\n",
       "      <td>165</td>\n",
       "      <td>164</td>\n",
       "      <td>164</td>\n",
       "      <td>163</td>\n",
       "      <td>162</td>\n",
       "      <td>153</td>\n",
       "      <td>156</td>\n",
       "      <td>159</td>\n",
       "      <td>160</td>\n",
       "      <td>162</td>\n",
       "      <td>163</td>\n",
       "      <td>164</td>\n",
       "      <td>165</td>\n",
       "      <td>167</td>\n",
       "      <td>169</td>\n",
       "      <td>172</td>\n",
       "      <td>171</td>\n",
       "      <td>...</td>\n",
       "      <td>199</td>\n",
       "      <td>200</td>\n",
       "      <td>199</td>\n",
       "      <td>199</td>\n",
       "      <td>198</td>\n",
       "      <td>199</td>\n",
       "      <td>198</td>\n",
       "      <td>197</td>\n",
       "      <td>196</td>\n",
       "      <td>195</td>\n",
       "      <td>195</td>\n",
       "      <td>194</td>\n",
       "      <td>66</td>\n",
       "      <td>67</td>\n",
       "      <td>65</td>\n",
       "      <td>62</td>\n",
       "      <td>61</td>\n",
       "      <td>41</td>\n",
       "      <td>32</td>\n",
       "      <td>37</td>\n",
       "      <td>33</td>\n",
       "      <td>30</td>\n",
       "      <td>28</td>\n",
       "      <td>38</td>\n",
       "      <td>187</td>\n",
       "      <td>202</td>\n",
       "      <td>199</td>\n",
       "      <td>199</td>\n",
       "      <td>199</td>\n",
       "      <td>199</td>\n",
       "      <td>198</td>\n",
       "      <td>198</td>\n",
       "      <td>198</td>\n",
       "      <td>198</td>\n",
       "      <td>198</td>\n",
       "      <td>196</td>\n",
       "      <td>195</td>\n",
       "      <td>195</td>\n",
       "      <td>195</td>\n",
       "      <td>194</td>\n",
       "    </tr>\n",
       "    <tr>\n",
       "      <th>27452</th>\n",
       "      <td>174</td>\n",
       "      <td>174</td>\n",
       "      <td>174</td>\n",
       "      <td>174</td>\n",
       "      <td>174</td>\n",
       "      <td>175</td>\n",
       "      <td>175</td>\n",
       "      <td>174</td>\n",
       "      <td>173</td>\n",
       "      <td>173</td>\n",
       "      <td>173</td>\n",
       "      <td>172</td>\n",
       "      <td>171</td>\n",
       "      <td>171</td>\n",
       "      <td>171</td>\n",
       "      <td>170</td>\n",
       "      <td>169</td>\n",
       "      <td>168</td>\n",
       "      <td>166</td>\n",
       "      <td>166</td>\n",
       "      <td>165</td>\n",
       "      <td>165</td>\n",
       "      <td>163</td>\n",
       "      <td>162</td>\n",
       "      <td>161</td>\n",
       "      <td>160</td>\n",
       "      <td>158</td>\n",
       "      <td>156</td>\n",
       "      <td>178</td>\n",
       "      <td>178</td>\n",
       "      <td>177</td>\n",
       "      <td>176</td>\n",
       "      <td>177</td>\n",
       "      <td>177</td>\n",
       "      <td>177</td>\n",
       "      <td>176</td>\n",
       "      <td>176</td>\n",
       "      <td>176</td>\n",
       "      <td>175</td>\n",
       "      <td>174</td>\n",
       "      <td>...</td>\n",
       "      <td>110</td>\n",
       "      <td>85</td>\n",
       "      <td>90</td>\n",
       "      <td>166</td>\n",
       "      <td>205</td>\n",
       "      <td>207</td>\n",
       "      <td>205</td>\n",
       "      <td>203</td>\n",
       "      <td>202</td>\n",
       "      <td>201</td>\n",
       "      <td>200</td>\n",
       "      <td>198</td>\n",
       "      <td>217</td>\n",
       "      <td>217</td>\n",
       "      <td>217</td>\n",
       "      <td>218</td>\n",
       "      <td>218</td>\n",
       "      <td>211</td>\n",
       "      <td>203</td>\n",
       "      <td>200</td>\n",
       "      <td>189</td>\n",
       "      <td>171</td>\n",
       "      <td>157</td>\n",
       "      <td>145</td>\n",
       "      <td>136</td>\n",
       "      <td>129</td>\n",
       "      <td>128</td>\n",
       "      <td>125</td>\n",
       "      <td>101</td>\n",
       "      <td>77</td>\n",
       "      <td>121</td>\n",
       "      <td>196</td>\n",
       "      <td>209</td>\n",
       "      <td>208</td>\n",
       "      <td>206</td>\n",
       "      <td>204</td>\n",
       "      <td>203</td>\n",
       "      <td>202</td>\n",
       "      <td>200</td>\n",
       "      <td>200</td>\n",
       "    </tr>\n",
       "    <tr>\n",
       "      <th>27453</th>\n",
       "      <td>177</td>\n",
       "      <td>181</td>\n",
       "      <td>184</td>\n",
       "      <td>185</td>\n",
       "      <td>187</td>\n",
       "      <td>189</td>\n",
       "      <td>190</td>\n",
       "      <td>191</td>\n",
       "      <td>191</td>\n",
       "      <td>190</td>\n",
       "      <td>191</td>\n",
       "      <td>193</td>\n",
       "      <td>192</td>\n",
       "      <td>191</td>\n",
       "      <td>191</td>\n",
       "      <td>191</td>\n",
       "      <td>191</td>\n",
       "      <td>190</td>\n",
       "      <td>190</td>\n",
       "      <td>189</td>\n",
       "      <td>187</td>\n",
       "      <td>186</td>\n",
       "      <td>184</td>\n",
       "      <td>183</td>\n",
       "      <td>182</td>\n",
       "      <td>181</td>\n",
       "      <td>179</td>\n",
       "      <td>177</td>\n",
       "      <td>179</td>\n",
       "      <td>182</td>\n",
       "      <td>185</td>\n",
       "      <td>187</td>\n",
       "      <td>189</td>\n",
       "      <td>190</td>\n",
       "      <td>192</td>\n",
       "      <td>192</td>\n",
       "      <td>192</td>\n",
       "      <td>192</td>\n",
       "      <td>194</td>\n",
       "      <td>194</td>\n",
       "      <td>...</td>\n",
       "      <td>190</td>\n",
       "      <td>173</td>\n",
       "      <td>140</td>\n",
       "      <td>80</td>\n",
       "      <td>28</td>\n",
       "      <td>60</td>\n",
       "      <td>70</td>\n",
       "      <td>61</td>\n",
       "      <td>61</td>\n",
       "      <td>78</td>\n",
       "      <td>100</td>\n",
       "      <td>86</td>\n",
       "      <td>136</td>\n",
       "      <td>135</td>\n",
       "      <td>135</td>\n",
       "      <td>135</td>\n",
       "      <td>132</td>\n",
       "      <td>132</td>\n",
       "      <td>136</td>\n",
       "      <td>136</td>\n",
       "      <td>137</td>\n",
       "      <td>144</td>\n",
       "      <td>103</td>\n",
       "      <td>120</td>\n",
       "      <td>197</td>\n",
       "      <td>200</td>\n",
       "      <td>195</td>\n",
       "      <td>196</td>\n",
       "      <td>170</td>\n",
       "      <td>149</td>\n",
       "      <td>119</td>\n",
       "      <td>56</td>\n",
       "      <td>27</td>\n",
       "      <td>58</td>\n",
       "      <td>102</td>\n",
       "      <td>79</td>\n",
       "      <td>47</td>\n",
       "      <td>64</td>\n",
       "      <td>87</td>\n",
       "      <td>93</td>\n",
       "    </tr>\n",
       "    <tr>\n",
       "      <th>27454</th>\n",
       "      <td>179</td>\n",
       "      <td>180</td>\n",
       "      <td>180</td>\n",
       "      <td>180</td>\n",
       "      <td>182</td>\n",
       "      <td>181</td>\n",
       "      <td>182</td>\n",
       "      <td>183</td>\n",
       "      <td>182</td>\n",
       "      <td>182</td>\n",
       "      <td>182</td>\n",
       "      <td>181</td>\n",
       "      <td>181</td>\n",
       "      <td>182</td>\n",
       "      <td>181</td>\n",
       "      <td>181</td>\n",
       "      <td>181</td>\n",
       "      <td>181</td>\n",
       "      <td>179</td>\n",
       "      <td>178</td>\n",
       "      <td>178</td>\n",
       "      <td>176</td>\n",
       "      <td>177</td>\n",
       "      <td>178</td>\n",
       "      <td>159</td>\n",
       "      <td>47</td>\n",
       "      <td>30</td>\n",
       "      <td>39</td>\n",
       "      <td>180</td>\n",
       "      <td>182</td>\n",
       "      <td>183</td>\n",
       "      <td>183</td>\n",
       "      <td>183</td>\n",
       "      <td>183</td>\n",
       "      <td>185</td>\n",
       "      <td>184</td>\n",
       "      <td>185</td>\n",
       "      <td>183</td>\n",
       "      <td>184</td>\n",
       "      <td>185</td>\n",
       "      <td>...</td>\n",
       "      <td>97</td>\n",
       "      <td>97</td>\n",
       "      <td>95</td>\n",
       "      <td>90</td>\n",
       "      <td>92</td>\n",
       "      <td>101</td>\n",
       "      <td>125</td>\n",
       "      <td>160</td>\n",
       "      <td>191</td>\n",
       "      <td>202</td>\n",
       "      <td>213</td>\n",
       "      <td>215</td>\n",
       "      <td>96</td>\n",
       "      <td>88</td>\n",
       "      <td>109</td>\n",
       "      <td>216</td>\n",
       "      <td>208</td>\n",
       "      <td>207</td>\n",
       "      <td>203</td>\n",
       "      <td>178</td>\n",
       "      <td>151</td>\n",
       "      <td>112</td>\n",
       "      <td>87</td>\n",
       "      <td>80</td>\n",
       "      <td>76</td>\n",
       "      <td>80</td>\n",
       "      <td>86</td>\n",
       "      <td>97</td>\n",
       "      <td>102</td>\n",
       "      <td>103</td>\n",
       "      <td>108</td>\n",
       "      <td>132</td>\n",
       "      <td>170</td>\n",
       "      <td>194</td>\n",
       "      <td>214</td>\n",
       "      <td>203</td>\n",
       "      <td>197</td>\n",
       "      <td>205</td>\n",
       "      <td>209</td>\n",
       "      <td>215</td>\n",
       "    </tr>\n",
       "  </tbody>\n",
       "</table>\n",
       "<p>27455 rows × 784 columns</p>\n",
       "</div>"
      ],
      "text/plain": [
       "       pixel1  pixel2  pixel3  pixel4  ...  pixel781  pixel782  pixel783  pixel784\n",
       "0         107     118     127     134  ...       206       204       203       202\n",
       "1         155     157     156     156  ...       175       103       135       149\n",
       "2         187     188     188     187  ...       198       195       194       195\n",
       "3         211     211     212     212  ...       225       222       229       163\n",
       "4         164     167     170     172  ...       157       163       164       179\n",
       "...       ...     ...     ...     ...  ...       ...       ...       ...       ...\n",
       "27450     189     189     190     190  ...       234       200       222       225\n",
       "27451     151     154     157     158  ...       195       195       195       194\n",
       "27452     174     174     174     174  ...       203       202       200       200\n",
       "27453     177     181     184     185  ...        47        64        87        93\n",
       "27454     179     180     180     180  ...       197       205       209       215\n",
       "\n",
       "[27455 rows x 784 columns]"
      ]
     },
     "execution_count": 8,
     "metadata": {
      "tags": []
     },
     "output_type": "execute_result"
    }
   ],
   "source": [
    "# getting pixel excluding the label column\n",
    "train_df_img = train_df.drop('label', axis=1)\n",
    "test_df_img = test_df.drop('label', axis=1)\n",
    "\n",
    "# getting labels excluding pixels data\n",
    "train_df_lbl = train_df['label']\n",
    "test_df_lbl = test_df['label']\n",
    "train_df_img"
   ]
  },
  {
   "cell_type": "markdown",
   "metadata": {
    "id": "LK2RAPo_0Qk-"
   },
   "source": [
    "###Getting label index from dataset."
   ]
  },
  {
   "cell_type": "code",
   "execution_count": 9,
   "metadata": {
    "colab": {
     "base_uri": "https://localhost:8080/"
    },
    "executionInfo": {
     "elapsed": 37310,
     "status": "ok",
     "timestamp": 1610800963451,
     "user": {
      "displayName": "Nandhakumar Duraisamy",
      "photoUrl": "https://lh3.googleusercontent.com/a-/AOh14GgLIM4VRFC54xPRt9AGjVlupvp705iWu7M6Fxq3Lg=s64",
      "userId": "08154574129048180733"
     },
     "user_tz": -330
    },
    "id": "FQzicTkcUoz6",
    "outputId": "eb1e4995-a5f9-45f4-f0a4-ebc4f48cd498"
   },
   "outputs": [
    {
     "name": "stdout",
     "output_type": "stream",
     "text": [
      "label index:  [ 0  1  2  3  4  5  6  7  8 10 11 12 13 14 15 16 17 18 19 20 21 22 23 24]\n"
     ]
    }
   ],
   "source": [
    "num_classes = np.unique(train_df_lbl)\n",
    "print(\"label index: \",num_classes)"
   ]
  },
  {
   "cell_type": "markdown",
   "metadata": {
    "id": "TzI4OjjlNHgG"
   },
   "source": [
    "Training Datasets = 27,455\n",
    "\n",
    "Test Datasets = 7172"
   ]
  },
  {
   "cell_type": "markdown",
   "metadata": {
    "id": "QM5VpU0Q0sA4"
   },
   "source": [
    "### Alphabets index except j and z\n",
    "\n",
    "To understand the output manually created the dict with appropriate keys.\n",
    "\n",
    "9=J or 25=Z because of gesture motions these are excluded from the datasets."
   ]
  },
  {
   "cell_type": "code",
   "execution_count": 10,
   "metadata": {
    "executionInfo": {
     "elapsed": 37309,
     "status": "ok",
     "timestamp": 1610800963452,
     "user": {
      "displayName": "Nandhakumar Duraisamy",
      "photoUrl": "https://lh3.googleusercontent.com/a-/AOh14GgLIM4VRFC54xPRt9AGjVlupvp705iWu7M6Fxq3Lg=s64",
      "userId": "08154574129048180733"
     },
     "user_tz": -330
    },
    "id": "kLkQbL7biT-N"
   },
   "outputs": [],
   "source": [
    "alphabets = {\n",
    "    0:'a', 1:'b', 2:'c', 3:'d', 4:'e',\n",
    "    5:'f', 6:'g', 7:'h', 8:'i',  9:'j', 10:'k',\n",
    "    11:'l', 12:'m', 13:'n', 14:'o', 15:'p',\n",
    "    16:'q', 17:'r', 18:'s', 19:'t', 20:'u',\n",
    "    21:'v', 22:'w', 23:'x', 24:'y', 25:'z'\n",
    "}"
   ]
  },
  {
   "cell_type": "markdown",
   "metadata": {
    "id": "vdtkm44F02OJ"
   },
   "source": [
    "###Transforms\n",
    "\n",
    "changing the composition and structure of image so that model can learn different datas."
   ]
  },
  {
   "cell_type": "code",
   "execution_count": 11,
   "metadata": {
    "executionInfo": {
     "elapsed": 37307,
     "status": "ok",
     "timestamp": 1610800963453,
     "user": {
      "displayName": "Nandhakumar Duraisamy",
      "photoUrl": "https://lh3.googleusercontent.com/a-/AOh14GgLIM4VRFC54xPRt9AGjVlupvp705iWu7M6Fxq3Lg=s64",
      "userId": "08154574129048180733"
     },
     "user_tz": -330
    },
    "id": "osug2ofpV8tT"
   },
   "outputs": [],
   "source": [
    "# Data transforms (normalization & data augmentation)\n",
    "train_tfms = transforms.Compose([\n",
    "                         transforms.ToPILImage(mode='L'),\n",
    "                         transforms.ToTensor(),\n",
    "                         transforms.RandomHorizontalFlip(p=0.5),\n",
    "                         transforms.RandomVerticalFlip(p=0.5),\n",
    "                         transforms.Normalize(0.5, 0.5)\n",
    "])"
   ]
  },
  {
   "cell_type": "markdown",
   "metadata": {
    "id": "Zyl3L9Tc1Ny6"
   },
   "source": [
    "###Custom Dataset\n",
    "\n",
    "creating a custom dataset using pixel and label dataframes.\n",
    "we have created a class which gets the pixel dataframe converts it to numpy arrays and then reshaping the array to (28x28)."
   ]
  },
  {
   "cell_type": "code",
   "execution_count": 12,
   "metadata": {
    "executionInfo": {
     "elapsed": 37306,
     "status": "ok",
     "timestamp": 1610800963454,
     "user": {
      "displayName": "Nandhakumar Duraisamy",
      "photoUrl": "https://lh3.googleusercontent.com/a-/AOh14GgLIM4VRFC54xPRt9AGjVlupvp705iWu7M6Fxq3Lg=s64",
      "userId": "08154574129048180733"
     },
     "user_tz": -330
    },
    "id": "vJ2wPdUHXYi_"
   },
   "outputs": [],
   "source": [
    "# custom dataset\n",
    "class CustomImageDataset(Dataset):\n",
    "    def __init__(self, images, labels=None, transforms=None):\n",
    "        self.img = images\n",
    "        self.lbl = labels\n",
    "        self.transforms = transforms\n",
    "         \n",
    "    def __len__(self):\n",
    "        return (len(self.img))\n",
    "    \n",
    "    def __getitem__(self, i):\n",
    "        data = self.img.iloc[i]\n",
    "        pxl_size = len(self.img.iloc[i]) ** 0.5\n",
    "        data = np.asarray(data).astype(np.uint8).reshape(-1, int(pxl_size))\n",
    "        if self.transforms:\n",
    "            data = self.transforms(data)\n",
    "        # check if label is present or not\n",
    "        if self.lbl is not None:\n",
    "            return (data, self.lbl[i])\n",
    "        else:\n",
    "            return data\n",
    "\n",
    "    def __len__(self):\n",
    "        return (len(self.img))"
   ]
  },
  {
   "cell_type": "code",
   "execution_count": 13,
   "metadata": {
    "executionInfo": {
     "elapsed": 37302,
     "status": "ok",
     "timestamp": 1610800963455,
     "user": {
      "displayName": "Nandhakumar Duraisamy",
      "photoUrl": "https://lh3.googleusercontent.com/a-/AOh14GgLIM4VRFC54xPRt9AGjVlupvp705iWu7M6Fxq3Lg=s64",
      "userId": "08154574129048180733"
     },
     "user_tz": -330
    },
    "id": "H2wdFfMZXYgm"
   },
   "outputs": [],
   "source": [
    "dataset = CustomImageDataset(train_df_img, train_df_lbl, train_tfms)\n",
    "test_ds = CustomImageDataset(train_df_img, train_df_lbl, train_tfms)"
   ]
  },
  {
   "cell_type": "markdown",
   "metadata": {
    "id": "h5MCxbvQ11Gz"
   },
   "source": [
    "###Sample Image from our custom dataset"
   ]
  },
  {
   "cell_type": "code",
   "execution_count": 14,
   "metadata": {
    "colab": {
     "base_uri": "https://localhost:8080/",
     "height": 299
    },
    "executionInfo": {
     "elapsed": 37737,
     "status": "ok",
     "timestamp": 1610800963893,
     "user": {
      "displayName": "Nandhakumar Duraisamy",
      "photoUrl": "https://lh3.googleusercontent.com/a-/AOh14GgLIM4VRFC54xPRt9AGjVlupvp705iWu7M6Fxq3Lg=s64",
      "userId": "08154574129048180733"
     },
     "user_tz": -330
    },
    "id": "YCYHB5wM6xvn",
    "outputId": "f2043a15-d19f-44cc-a88a-461b2c4a08a3"
   },
   "outputs": [
    {
     "name": "stdout",
     "output_type": "stream",
     "text": [
      "Label (Alphabet) :  d\n"
     ]
    },
    {
     "data": {
      "text/plain": [
       "<matplotlib.image.AxesImage at 0x7f1e614ac6d8>"
      ]
     },
     "execution_count": 14,
     "metadata": {
      "tags": []
     },
     "output_type": "execute_result"
    },
    {
     "data": {
      "image/png": "[encoded data removed]",
      "text/plain": [
       "<Figure size 432x288 with 1 Axes>"
      ]
     },
     "metadata": {
      "needs_background": "light",
      "tags": []
     },
     "output_type": "display_data"
    }
   ],
   "source": [
    "img, lbl = dataset[0]\n",
    "print(\"Label (Alphabet) : \",alphabets[lbl])\n",
    "plt.imshow(img[0])"
   ]
  },
  {
   "cell_type": "markdown",
   "metadata": {
    "id": "SE5lZl4X2DJ_"
   },
   "source": [
    "Seed value is fixed inorder to get same validation set."
   ]
  },
  {
   "cell_type": "code",
   "execution_count": 15,
   "metadata": {
    "colab": {
     "base_uri": "https://localhost:8080/"
    },
    "executionInfo": {
     "elapsed": 37736,
     "status": "ok",
     "timestamp": 1610800963894,
     "user": {
      "displayName": "Nandhakumar Duraisamy",
      "photoUrl": "https://lh3.googleusercontent.com/a-/AOh14GgLIM4VRFC54xPRt9AGjVlupvp705iWu7M6Fxq3Lg=s64",
      "userId": "08154574129048180733"
     },
     "user_tz": -330
    },
    "id": "F20npzphXYdk",
    "outputId": "9d7af7a1-5104-4512-d1d7-fd0281e55dc0"
   },
   "outputs": [
    {
     "data": {
      "text/plain": [
       "(24455, 3000)"
      ]
     },
     "execution_count": 15,
     "metadata": {
      "tags": []
     },
     "output_type": "execute_result"
    }
   ],
   "source": [
    "random_seed = 43\n",
    "torch.manual_seed(random_seed)\n",
    "val_size = 3000\n",
    "train_size = len(dataset) - val_size\n",
    "\n",
    "train_ds, val_ds = random_split(dataset, [train_size, val_size])\n",
    "len(train_ds), len(val_ds)"
   ]
  },
  {
   "cell_type": "code",
   "execution_count": 16,
   "metadata": {
    "executionInfo": {
     "elapsed": 37733,
     "status": "ok",
     "timestamp": 1610800963895,
     "user": {
      "displayName": "Nandhakumar Duraisamy",
      "photoUrl": "https://lh3.googleusercontent.com/a-/AOh14GgLIM4VRFC54xPRt9AGjVlupvp705iWu7M6Fxq3Lg=s64",
      "userId": "08154574129048180733"
     },
     "user_tz": -330
    },
    "id": "Pnxw2X09XYbD"
   },
   "outputs": [],
   "source": [
    "batch_size = 128\n",
    "train_dl = DataLoader(train_ds, batch_size, shuffle=True, num_workers=0, pin_memory=True)\n",
    "val_dl = DataLoader(val_ds, batch_size*2, num_workers=0, pin_memory=True)\n",
    "test_dl = DataLoader(test_ds, batch_size*2, num_workers=0, pin_memory=True)"
   ]
  },
  {
   "cell_type": "markdown",
   "metadata": {
    "id": "jtFGksUb2RCJ"
   },
   "source": [
    "Below are the images of a batch which are processed through transform normalization, horizontal and vertical flip."
   ]
  },
  {
   "cell_type": "code",
   "execution_count": 17,
   "metadata": {
    "executionInfo": {
     "elapsed": 37731,
     "status": "ok",
     "timestamp": 1610800963896,
     "user": {
      "displayName": "Nandhakumar Duraisamy",
      "photoUrl": "https://lh3.googleusercontent.com/a-/AOh14GgLIM4VRFC54xPRt9AGjVlupvp705iWu7M6Fxq3Lg=s64",
      "userId": "08154574129048180733"
     },
     "user_tz": -330
    },
    "id": "8PeU40GvXYYy"
   },
   "outputs": [],
   "source": [
    "def show_batch(trainloader):\n",
    "  for images, _ in trainloader:\n",
    "    print('images.shape:', images.shape)\n",
    "    plt.figure(figsize=(16,8))\n",
    "    plt.axis('off')\n",
    "    plt.imshow(make_grid(images, nrow=16).permute((1, 2, 0)))\n",
    "    break"
   ]
  },
  {
   "cell_type": "code",
   "execution_count": 18,
   "metadata": {
    "colab": {
     "base_uri": "https://localhost:8080/",
     "height": 500
    },
    "executionInfo": {
     "elapsed": 49562,
     "status": "ok",
     "timestamp": 1610800975729,
     "user": {
      "displayName": "Nandhakumar Duraisamy",
      "photoUrl": "https://lh3.googleusercontent.com/a-/AOh14GgLIM4VRFC54xPRt9AGjVlupvp705iWu7M6Fxq3Lg=s64",
      "userId": "08154574129048180733"
     },
     "user_tz": -330
    },
    "id": "heJ-vzGaXYWz",
    "outputId": "5bebdc97-c0cf-4cff-c38a-c33cf46bed26"
   },
   "outputs": [
    {
     "name": "stderr",
     "output_type": "stream",
     "text": [
      "Clipping input data to the valid range for imshow with RGB data ([0..1] for floats or [0..255] for integers).\n"
     ]
    },
    {
     "name": "stdout",
     "output_type": "stream",
     "text": [
      "images.shape: torch.Size([128, 1, 28, 28])\n"
     ]
    },
    {
     "data": {
      "image/png": "[encoded data removed]",
      "text/plain": [
       "<Figure size 1152x576 with 1 Axes>"
      ]
     },
     "metadata": {
      "needs_background": "light",
      "tags": []
     },
     "output_type": "display_data"
    }
   ],
   "source": [
    "show_batch(train_dl)"
   ]
  },
  {
   "cell_type": "code",
   "execution_count": 19,
   "metadata": {
    "executionInfo": {
     "elapsed": 49559,
     "status": "ok",
     "timestamp": 1610800975730,
     "user": {
      "displayName": "Nandhakumar Duraisamy",
      "photoUrl": "https://lh3.googleusercontent.com/a-/AOh14GgLIM4VRFC54xPRt9AGjVlupvp705iWu7M6Fxq3Lg=s64",
      "userId": "08154574129048180733"
     },
     "user_tz": -330
    },
    "id": "K_tXcSFcW5K4"
   },
   "outputs": [],
   "source": [
    "# Reused code from \"Deep Learning with PyTorch: Zero to GANs\"\n",
    "# https://jovian.ai/learn/deep-learning-with-pytorch-zero-to-gans/\n",
    "# To move Model and Data to GPU\n",
    "def get_default_device():\n",
    "    \"\"\"Pick GPU if available, else CPU\"\"\"\n",
    "    if torch.cuda.is_available():\n",
    "        return torch.device('cuda')\n",
    "    else:\n",
    "        return torch.device('cpu')\n",
    "    \n",
    "def to_device(data, device):\n",
    "    \"\"\"Move tensor(s) to chosen device\"\"\"\n",
    "    if isinstance(data, (list,tuple)):\n",
    "        return [to_device(x, device) for x in data]\n",
    "    return data.to(device, non_blocking=True)\n",
    "\n",
    "class DeviceDataLoader():\n",
    "    \"\"\"Wrap a dataloader to move data to a device\"\"\"\n",
    "    def __init__(self, dl, device):\n",
    "        self.dl = dl\n",
    "        self.device = device\n",
    "        \n",
    "    def __iter__(self):\n",
    "        \"\"\"Yield a batch of data after moving it to device\"\"\"\n",
    "        for b in self.dl: \n",
    "            yield to_device(b, self.device)\n",
    "\n",
    "    def __len__(self):\n",
    "        \"\"\"Number of batches\"\"\"\n",
    "        return len(self.dl)"
   ]
  },
  {
   "cell_type": "code",
   "execution_count": 20,
   "metadata": {
    "colab": {
     "base_uri": "https://localhost:8080/"
    },
    "executionInfo": {
     "elapsed": 49558,
     "status": "ok",
     "timestamp": 1610800975732,
     "user": {
      "displayName": "Nandhakumar Duraisamy",
      "photoUrl": "https://lh3.googleusercontent.com/a-/AOh14GgLIM4VRFC54xPRt9AGjVlupvp705iWu7M6Fxq3Lg=s64",
      "userId": "08154574129048180733"
     },
     "user_tz": -330
    },
    "id": "ubc1fQoWW58v",
    "outputId": "bb24022f-548a-4a56-a13d-4c975fba6bf0"
   },
   "outputs": [
    {
     "data": {
      "text/plain": [
       "device(type='cuda')"
      ]
     },
     "execution_count": 20,
     "metadata": {
      "tags": []
     },
     "output_type": "execute_result"
    }
   ],
   "source": [
    "# Get available device\n",
    "device = get_default_device()\n",
    "device"
   ]
  },
  {
   "cell_type": "code",
   "execution_count": 21,
   "metadata": {
    "executionInfo": {
     "elapsed": 49557,
     "status": "ok",
     "timestamp": 1610800975733,
     "user": {
      "displayName": "Nandhakumar Duraisamy",
      "photoUrl": "https://lh3.googleusercontent.com/a-/AOh14GgLIM4VRFC54xPRt9AGjVlupvp705iWu7M6Fxq3Lg=s64",
      "userId": "08154574129048180733"
     },
     "user_tz": -330
    },
    "id": "kmGbD9h3bgdF"
   },
   "outputs": [],
   "source": [
    "# Reused code from \"Deep Learning with PyTorch: Zero to GANs\"\n",
    "# https://jovian.ai/learn/deep-learning-with-pytorch-zero-to-gans/\n",
    "# Set of helper function to get accuracy and loss \n",
    "def accuracy(outputs, labels):\n",
    "    _, preds = torch.max(outputs, dim=1)\n",
    "    return torch.tensor(torch.sum(preds == labels).item() / len(preds))\n",
    "\n",
    "class ImageClassificationBase(nn.Module):\n",
    "    def training_step(self, batch):\n",
    "        images, labels = batch \n",
    "        out = self(images)                  # Generate predictions\n",
    "        loss = F.cross_entropy(out, labels) # Calculate loss\n",
    "        return loss\n",
    "    \n",
    "    def validation_step(self, batch):\n",
    "        images, labels = batch \n",
    "        out = self(images)                    # Generate predictions\n",
    "        loss = F.cross_entropy(out, labels)   # Calculate loss\n",
    "        acc = accuracy(out, labels)           # Calculate accuracy\n",
    "        return {'val_loss': loss.detach(), 'val_acc': acc}\n",
    "        \n",
    "    def validation_epoch_end(self, outputs):\n",
    "        batch_losses = [x['val_loss'] for x in outputs]\n",
    "        epoch_loss = torch.stack(batch_losses).mean()   # Combine losses\n",
    "        batch_accs = [x['val_acc'] for x in outputs]\n",
    "        epoch_acc = torch.stack(batch_accs).mean()      # Combine accuracies\n",
    "        return {'val_loss': epoch_loss.item(), 'val_acc': epoch_acc.item()}\n",
    "    \n",
    "    def epoch_end(self, epoch, result):\n",
    "        print(\"Epoch [{}], train_loss: {:.4f}, val_loss: {:.4f}, val_acc: {:.4f}\".format(\n",
    "            epoch, result['train_loss'], result['val_loss'], result['val_acc']))"
   ]
  },
  {
   "cell_type": "code",
   "execution_count": 22,
   "metadata": {
    "executionInfo": {
     "elapsed": 49555,
     "status": "ok",
     "timestamp": 1610800975734,
     "user": {
      "displayName": "Nandhakumar Duraisamy",
      "photoUrl": "https://lh3.googleusercontent.com/a-/AOh14GgLIM4VRFC54xPRt9AGjVlupvp705iWu7M6Fxq3Lg=s64",
      "userId": "08154574129048180733"
     },
     "user_tz": -330
    },
    "id": "DQvN-bGFK30_"
   },
   "outputs": [],
   "source": [
    "def conv_block(in_channels, out_channels,pool=False):\n",
    "    layers = [\n",
    "              nn.Conv2d(in_channels, out_channels, kernel_size=3, padding=1), \n",
    "              nn.ReLU()]\n",
    "    if pool: layers.append(nn.MaxPool2d(2, 2))\n",
    "    return nn.Sequential(*layers)"
   ]
  },
  {
   "cell_type": "code",
   "execution_count": 23,
   "metadata": {
    "executionInfo": {
     "elapsed": 49555,
     "status": "ok",
     "timestamp": 1610800975736,
     "user": {
      "displayName": "Nandhakumar Duraisamy",
      "photoUrl": "https://lh3.googleusercontent.com/a-/AOh14GgLIM4VRFC54xPRt9AGjVlupvp705iWu7M6Fxq3Lg=s64",
      "userId": "08154574129048180733"
     },
     "user_tz": -330
    },
    "id": "ifklqMlORSLD"
   },
   "outputs": [],
   "source": [
    "class AslModel(ImageClassificationBase):\n",
    "  def __init__(self, in_channels, out_classes):\n",
    "    super().__init__()\n",
    "    self.network = nn.Sequential(\n",
    "        conv_block(in_channels, 32),\n",
    "        conv_block(32, 64, pool=True),\n",
    "        conv_block(64, 128),\n",
    "        conv_block(128, 128, pool=True),\n",
    "        conv_block(128, 256),\n",
    "        conv_block(256, 256, pool=True),\n",
    "\n",
    "        nn.Flatten(), \n",
    "        nn.Linear(256*3*3, 1024),# 2304\n",
    "        nn.ReLU(),\n",
    "        nn.Linear(1024, 512),\n",
    "        nn.ReLU(),\n",
    "        nn.Linear(512, out_classes)\n",
    "    )\n",
    "        \n",
    "  def forward(self, xb):\n",
    "    return self.network(xb)\n",
    "\n"
   ]
  },
  {
   "cell_type": "code",
   "execution_count": 24,
   "metadata": {
    "executionInfo": {
     "elapsed": 49554,
     "status": "ok",
     "timestamp": 1610800975737,
     "user": {
      "displayName": "Nandhakumar Duraisamy",
      "photoUrl": "https://lh3.googleusercontent.com/a-/AOh14GgLIM4VRFC54xPRt9AGjVlupvp705iWu7M6Fxq3Lg=s64",
      "userId": "08154574129048180733"
     },
     "user_tz": -330
    },
    "id": "uZZJRYYbbgan"
   },
   "outputs": [],
   "source": [
    "#as the output label index starts from 0, we assigned the value 25 to the out_classes\n",
    "in_channels = 1\n",
    "out_classes = 25"
   ]
  },
  {
   "cell_type": "code",
   "execution_count": 25,
   "metadata": {
    "executionInfo": {
     "elapsed": 49927,
     "status": "ok",
     "timestamp": 1610800976113,
     "user": {
      "displayName": "Nandhakumar Duraisamy",
      "photoUrl": "https://lh3.googleusercontent.com/a-/AOh14GgLIM4VRFC54xPRt9AGjVlupvp705iWu7M6Fxq3Lg=s64",
      "userId": "08154574129048180733"
     },
     "user_tz": -330
    },
    "id": "3ZasdQqVLwBr"
   },
   "outputs": [],
   "source": [
    "model = AslModel(in_channels, out_classes)\n",
    "to_device(model, device);"
   ]
  },
  {
   "cell_type": "code",
   "execution_count": 26,
   "metadata": {
    "executionInfo": {
     "elapsed": 49925,
     "status": "ok",
     "timestamp": 1610800976113,
     "user": {
      "displayName": "Nandhakumar Duraisamy",
      "photoUrl": "https://lh3.googleusercontent.com/a-/AOh14GgLIM4VRFC54xPRt9AGjVlupvp705iWu7M6Fxq3Lg=s64",
      "userId": "08154574129048180733"
     },
     "user_tz": -330
    },
    "id": "7pYxfq6P2Kvx"
   },
   "outputs": [],
   "source": [
    "train_dl = DeviceDataLoader(train_dl, device)\n",
    "val_dl = DeviceDataLoader(val_dl, device)"
   ]
  },
  {
   "cell_type": "code",
   "execution_count": 27,
   "metadata": {
    "colab": {
     "base_uri": "https://localhost:8080/"
    },
    "executionInfo": {
     "elapsed": 49921,
     "status": "ok",
     "timestamp": 1610800976114,
     "user": {
      "displayName": "Nandhakumar Duraisamy",
      "photoUrl": "https://lh3.googleusercontent.com/a-/AOh14GgLIM4VRFC54xPRt9AGjVlupvp705iWu7M6Fxq3Lg=s64",
      "userId": "08154574129048180733"
     },
     "user_tz": -330
    },
    "id": "Jxp8p-S8WFkf",
    "outputId": "5860167b-ad95-4267-8bc4-7e5da5a2f647"
   },
   "outputs": [
    {
     "name": "stdout",
     "output_type": "stream",
     "text": [
      "image shape torch.Size([128, 1, 28, 28])\n",
      "out shape torch.Size([128, 25])\n",
      "out[0]: tensor([ 0.0129,  0.0027, -0.0366,  0.0294, -0.0178,  0.0159, -0.0398,  0.0034,\n",
      "         0.0337, -0.0009,  0.0578,  0.0456, -0.0311,  0.0154, -0.0203, -0.0169,\n",
      "         0.0109, -0.0160,  0.0025,  0.0070, -0.0315, -0.0149, -0.0197, -0.0352,\n",
      "         0.0344], device='cuda:0', grad_fn=<SelectBackward>)\n"
     ]
    }
   ],
   "source": [
    "for images, labels in train_dl:\n",
    "  print(\"image shape\", images.shape)\n",
    "  out = model(images)\n",
    "  print(\"out shape\", out.shape)\n",
    "  print('out[0]:', out[0])\n",
    "  break\n"
   ]
  },
  {
   "cell_type": "code",
   "execution_count": 28,
   "metadata": {
    "executionInfo": {
     "elapsed": 49917,
     "status": "ok",
     "timestamp": 1610800976115,
     "user": {
      "displayName": "Nandhakumar Duraisamy",
      "photoUrl": "https://lh3.googleusercontent.com/a-/AOh14GgLIM4VRFC54xPRt9AGjVlupvp705iWu7M6Fxq3Lg=s64",
      "userId": "08154574129048180733"
     },
     "user_tz": -330
    },
    "id": "wKOmwVA1WFhs"
   },
   "outputs": [],
   "source": [
    "@torch.no_grad()\n",
    "def evaluate(model, val_loader):\n",
    "    model.eval()\n",
    "    outputs = [model.validation_step(batch) for batch in val_loader]\n",
    "    return model.validation_epoch_end(outputs)\n",
    "\n",
    "def fit(epochs, lr, model, train_loader, val_loader, opt_func=torch.optim.SGD):\n",
    "    history = []\n",
    "    optimizer = opt_func(model.parameters(), lr)\n",
    "    for epoch in range(epochs):\n",
    "        # Training Phase \n",
    "        model.train()\n",
    "        train_losses = []\n",
    "        for batch in train_loader:\n",
    "            loss = model.training_step(batch)\n",
    "            train_losses.append(loss)\n",
    "            loss.backward()\n",
    "            optimizer.step()\n",
    "            optimizer.zero_grad()\n",
    "        # Validation phase\n",
    "        result = evaluate(model, val_loader)\n",
    "        result['train_loss'] = torch.stack(train_losses).mean().item()\n",
    "        model.epoch_end(epoch, result)\n",
    "        history.append(result)\n",
    "    return history"
   ]
  },
  {
   "cell_type": "code",
   "execution_count": 29,
   "metadata": {
    "colab": {
     "base_uri": "https://localhost:8080/"
    },
    "executionInfo": {
     "elapsed": 51664,
     "status": "ok",
     "timestamp": 1610800977868,
     "user": {
      "displayName": "Nandhakumar Duraisamy",
      "photoUrl": "https://lh3.googleusercontent.com/a-/AOh14GgLIM4VRFC54xPRt9AGjVlupvp705iWu7M6Fxq3Lg=s64",
      "userId": "08154574129048180733"
     },
     "user_tz": -330
    },
    "id": "eo7BeAR8WFfi",
    "outputId": "4e89155d-f6e8-4bd0-a0d2-dba64b6b4263"
   },
   "outputs": [
    {
     "data": {
      "text/plain": [
       "{'val_acc': 0.03780287504196167, 'val_loss': 3.2191319465637207}"
      ]
     },
     "execution_count": 29,
     "metadata": {
      "tags": []
     },
     "output_type": "execute_result"
    }
   ],
   "source": [
    "evaluate(model, val_dl)"
   ]
  },
  {
   "cell_type": "code",
   "execution_count": 30,
   "metadata": {
    "executionInfo": {
     "elapsed": 51662,
     "status": "ok",
     "timestamp": 1610800977870,
     "user": {
      "displayName": "Nandhakumar Duraisamy",
      "photoUrl": "https://lh3.googleusercontent.com/a-/AOh14GgLIM4VRFC54xPRt9AGjVlupvp705iWu7M6Fxq3Lg=s64",
      "userId": "08154574129048180733"
     },
     "user_tz": -330
    },
    "id": "t_-y6XMGWFc6"
   },
   "outputs": [],
   "source": [
    "# Adam optimizer is used.\n",
    "num_epochs = 10\n",
    "opt_func = torch.optim.Adam\n",
    "lr = 0.001"
   ]
  },
  {
   "cell_type": "code",
   "execution_count": 31,
   "metadata": {
    "colab": {
     "base_uri": "https://localhost:8080/"
    },
    "executionInfo": {
     "elapsed": 265924,
     "status": "ok",
     "timestamp": 1610801192137,
     "user": {
      "displayName": "Nandhakumar Duraisamy",
      "photoUrl": "https://lh3.googleusercontent.com/a-/AOh14GgLIM4VRFC54xPRt9AGjVlupvp705iWu7M6Fxq3Lg=s64",
      "userId": "08154574129048180733"
     },
     "user_tz": -330
    },
    "id": "HwSd7U4DwAl4",
    "outputId": "252cc81e-b69a-4e60-95e5-7d018c4dd4d2"
   },
   "outputs": [
    {
     "name": "stdout",
     "output_type": "stream",
     "text": [
      "Epoch [0], train_loss: 2.7393, val_loss: 2.0712, val_acc: 0.2559\n",
      "Epoch [1], train_loss: 1.5201, val_loss: 1.3536, val_acc: 0.5179\n",
      "Epoch [2], train_loss: 0.4881, val_loss: 0.2666, val_acc: 0.9057\n",
      "Epoch [3], train_loss: 0.1544, val_loss: 0.0684, val_acc: 0.9738\n",
      "Epoch [4], train_loss: 0.0713, val_loss: 0.0339, val_acc: 0.9902\n",
      "Epoch [5], train_loss: 0.0302, val_loss: 0.0514, val_acc: 0.9846\n",
      "Epoch [6], train_loss: 0.0521, val_loss: 0.0300, val_acc: 0.9904\n",
      "Epoch [7], train_loss: 0.0335, val_loss: 0.0188, val_acc: 0.9928\n",
      "Epoch [8], train_loss: 0.0203, val_loss: 0.0267, val_acc: 0.9919\n",
      "Epoch [9], train_loss: 0.0219, val_loss: 0.0161, val_acc: 0.9963\n",
      "CPU times: user 3min 32s, sys: 1.81 s, total: 3min 33s\n",
      "Wall time: 3min 33s\n"
     ]
    }
   ],
   "source": [
    "%%time\n",
    "history = fit(num_epochs, lr, model, train_dl, val_dl, opt_func)"
   ]
  },
  {
   "cell_type": "code",
   "execution_count": 32,
   "metadata": {
    "executionInfo": {
     "elapsed": 1098,
     "status": "ok",
     "timestamp": 1610801213486,
     "user": {
      "displayName": "Nandhakumar Duraisamy",
      "photoUrl": "https://lh3.googleusercontent.com/a-/AOh14GgLIM4VRFC54xPRt9AGjVlupvp705iWu7M6Fxq3Lg=s64",
      "userId": "08154574129048180733"
     },
     "user_tz": -330
    },
    "id": "fXiXnkrqwAi7"
   },
   "outputs": [],
   "source": [
    "train_time='3min 33s'"
   ]
  },
  {
   "cell_type": "markdown",
   "metadata": {
    "id": "yFjF3pqfEvaj"
   },
   "source": [
    "Testing with individual images"
   ]
  },
  {
   "cell_type": "code",
   "execution_count": 33,
   "metadata": {
    "executionInfo": {
     "elapsed": 1181,
     "status": "ok",
     "timestamp": 1610801215598,
     "user": {
      "displayName": "Nandhakumar Duraisamy",
      "photoUrl": "https://lh3.googleusercontent.com/a-/AOh14GgLIM4VRFC54xPRt9AGjVlupvp705iWu7M6Fxq3Lg=s64",
      "userId": "08154574129048180733"
     },
     "user_tz": -330
    },
    "id": "K4jYQJs0IJ8n"
   },
   "outputs": [],
   "source": [
    "def test_image(img, model):\n",
    "    xb = to_device(img.unsqueeze(0), device)\n",
    "    yb = model(xb)\n",
    "    _, preds  = torch.max(yb, dim=1)\n",
    "    return alphabets[preds[0].item()]"
   ]
  },
  {
   "cell_type": "code",
   "execution_count": 34,
   "metadata": {
    "colab": {
     "base_uri": "https://localhost:8080/",
     "height": 299
    },
    "executionInfo": {
     "elapsed": 1311,
     "status": "ok",
     "timestamp": 1610801217537,
     "user": {
      "displayName": "Nandhakumar Duraisamy",
      "photoUrl": "https://lh3.googleusercontent.com/a-/AOh14GgLIM4VRFC54xPRt9AGjVlupvp705iWu7M6Fxq3Lg=s64",
      "userId": "08154574129048180733"
     },
     "user_tz": -330
    },
    "id": "q-hCqqOQIJ2B",
    "outputId": "77fefeff-9d4c-46f7-e20b-64a365cabced"
   },
   "outputs": [
    {
     "name": "stdout",
     "output_type": "stream",
     "text": [
      "Label: c , Predicted: c\n"
     ]
    },
    {
     "data": {
      "text/plain": [
       "<matplotlib.image.AxesImage at 0x7f1e615e1a58>"
      ]
     },
     "execution_count": 34,
     "metadata": {
      "tags": []
     },
     "output_type": "execute_result"
    },
    {
     "data": {
      "image/png": "[encoded data removed]",
      "text/plain": [
       "<Figure size 432x288 with 1 Axes>"
      ]
     },
     "metadata": {
      "needs_background": "light",
      "tags": []
     },
     "output_type": "display_data"
    }
   ],
   "source": [
    "img, label = test_ds[705]\n",
    "predicted_image = test_image(img, model)\n",
    "print('Label:', alphabets[label], ', Predicted:', predicted_image)\n",
    "plt.imshow(img[0])"
   ]
  },
  {
   "cell_type": "code",
   "execution_count": 35,
   "metadata": {
    "colab": {
     "base_uri": "https://localhost:8080/",
     "height": 299
    },
    "executionInfo": {
     "elapsed": 1064,
     "status": "ok",
     "timestamp": 1610801220458,
     "user": {
      "displayName": "Nandhakumar Duraisamy",
      "photoUrl": "https://lh3.googleusercontent.com/a-/AOh14GgLIM4VRFC54xPRt9AGjVlupvp705iWu7M6Fxq3Lg=s64",
      "userId": "08154574129048180733"
     },
     "user_tz": -330
    },
    "id": "o1_scovyOuoC",
    "outputId": "aeb18e45-fbb5-406a-bdc7-42026096f766"
   },
   "outputs": [
    {
     "name": "stdout",
     "output_type": "stream",
     "text": [
      "Label: r , Predicted: r\n"
     ]
    },
    {
     "data": {
      "text/plain": [
       "<matplotlib.image.AxesImage at 0x7f1e59b7ee80>"
      ]
     },
     "execution_count": 35,
     "metadata": {
      "tags": []
     },
     "output_type": "execute_result"
    },
    {
     "data": {
      "image/png": "[encoded data removed]",
      "text/plain": [
       "<Figure size 432x288 with 1 Axes>"
      ]
     },
     "metadata": {
      "needs_background": "light",
      "tags": []
     },
     "output_type": "display_data"
    }
   ],
   "source": [
    "img, label = test_ds[2186]\n",
    "predicted_image = test_image(img, model)\n",
    "print('Label:', alphabets[label], ', Predicted:', predicted_image)\n",
    "plt.imshow(img[0])"
   ]
  },
  {
   "cell_type": "code",
   "execution_count": null,
   "metadata": {
    "id": "3QuRwXvewAfl"
   },
   "outputs": [],
   "source": [
    "# load model state\n",
    "path = '/content/asl-layer9.pth'\n",
    "model2 = to_device(AslModel(), device)\n",
    "evaluate(model2, test_loader)"
   ]
  },
  {
   "cell_type": "code",
   "execution_count": 36,
   "metadata": {
    "executionInfo": {
     "elapsed": 1407,
     "status": "ok",
     "timestamp": 1610801225925,
     "user": {
      "displayName": "Nandhakumar Duraisamy",
      "photoUrl": "https://lh3.googleusercontent.com/a-/AOh14GgLIM4VRFC54xPRt9AGjVlupvp705iWu7M6Fxq3Lg=s64",
      "userId": "08154574129048180733"
     },
     "user_tz": -330
    },
    "id": "q7RgLe9gWFYG"
   },
   "outputs": [],
   "source": [
    "# Save model state\n",
    "torch.save(model.state_dict(), 'asl-layer9.pth')"
   ]
  },
  {
   "cell_type": "code",
   "execution_count": null,
   "metadata": {
    "colab": {
     "base_uri": "https://localhost:8080/"
    },
    "id": "C-EY_arwWFVq",
    "outputId": "e80263d5-5042-44bd-c371-b7b65fa8dc7f"
   },
   "outputs": [
    {
     "name": "stdout",
     "output_type": "stream",
     "text": [
      "[jovian] Please enter your API key ( from https://jovian.ai/ ):\u001b[0m\n",
      "API KEY: "
     ]
    }
   ],
   "source": [
    "jovian.reset()\n",
    "jovian.log_hyperparams({\n",
    "    'arch':'aslmodel',\n",
    "    'num_epochs': num_epochs,\n",
    "    'opt_func': opt_func.__name__,\n",
    "    'batch_size': batch_size,\n",
    "    'lr': lr,\n",
    "})"
   ]
  },
  {
   "cell_type": "code",
   "execution_count": null,
   "metadata": {
    "id": "kyN7csmMALDy"
   },
   "outputs": [],
   "source": [
    "jovian.log_dataset(dataset_url=dataset_url, val_size=val_size, random_seed=random_seed)"
   ]
  },
  {
   "cell_type": "code",
   "execution_count": null,
   "metadata": {
    "id": "Gklc3xp9AJSy"
   },
   "outputs": [],
   "source": [
    "jovian.log_metrics(val_loss=history[-1]['val_loss'], \n",
    "                   val_acc=history[-1]['val_acc'],\n",
    "                   train_loss=history[-1]['train_loss'],\n",
    "                   time=train_time)"
   ]
  },
  {
   "cell_type": "code",
   "execution_count": null,
   "metadata": {
    "id": "CGnBkalJWFTJ"
   },
   "outputs": [],
   "source": [
    "jovian.commit(project=project_name, outputs=['asl-layer9.pth'])"
   ]
  }
 ],
 "metadata": {
  "accelerator": "GPU",
  "colab": {
   "collapsed_sections": [],
   "name": "sign-language.ipynb",
   "provenance": []
  },
  "language_info": {
   "codemirror_mode": {
    "name": "ipython",
    "version": 3
   },
   "file_extension": ".py",
   "mimetype": "text/x-python",
   "name": "python",
   "nbconvert_exporter": "python",
   "pygments_lexer": "ipython3",
   "version": "3.7.6"
  }
 },
 "nbformat": 4,
 "nbformat_minor": 0
}